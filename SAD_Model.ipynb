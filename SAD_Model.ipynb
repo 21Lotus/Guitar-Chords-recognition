{
  "nbformat": 4,
  "nbformat_minor": 0,
  "metadata": {
    "colab": {
      "provenance": [],
      "authorship_tag": "ABX9TyOLz3KyebSh5nOKcO+XrNnF",
      "include_colab_link": true
    },
    "kernelspec": {
      "name": "python3",
      "display_name": "Python 3"
    },
    "language_info": {
      "name": "python"
    }
  },
  "cells": [
    {
      "cell_type": "markdown",
      "metadata": {
        "id": "view-in-github",
        "colab_type": "text"
      },
      "source": [
        "<a href=\"https://colab.research.google.com/github/21Lotus/Guitar-Chords-recognition/blob/master/SAD_Model.ipynb\" target=\"_parent\"><img src=\"https://colab.research.google.com/assets/colab-badge.svg\" alt=\"Open In Colab\"/></a>"
      ]
    },
    {
      "cell_type": "markdown",
      "metadata": {
        "id": "m4g06vEcCIRU"
      },
      "source": [
        "# Imports"
      ]
    },
    {
      "cell_type": "code",
      "execution_count": null,
      "metadata": {
        "colab": {
          "base_uri": "https://localhost:8080/"
        },
        "id": "xaS7sO-PEfqj",
        "outputId": "79f74ea9-7a95-4a8a-fb10-bd5fcaf20e54"
      },
      "outputs": [
        {
          "output_type": "stream",
          "name": "stdout",
          "text": [
            "Mounted at /content/drive\n"
          ]
        }
      ],
      "source": [
        "from google.colab import drive\n",
        "drive.mount('/content/drive')"
      ]
    },
    {
      "cell_type": "code",
      "execution_count": null,
      "metadata": {
        "id": "57AmrdU9JHmS"
      },
      "outputs": [],
      "source": [
        "%%capture\n",
        "import librosa\n",
        "!pip install kapre\n",
        "import kapre\n",
        "import keras\n",
        "import tensorflow as tf\n",
        "from tensorflow.keras.models import Sequential\n",
        "import numpy as np\n",
        "import pandas as pd\n",
        "from datetime import datetime\n",
        "from kapre.time_frequency import STFT, Magnitude, MagnitudeToDecibel\n",
        "from tensorflow.keras.utils import plot_model"
      ]
    },
    {
      "cell_type": "code",
      "execution_count": null,
      "metadata": {
        "id": "ZYDTnSBM3HXq"
      },
      "outputs": [],
      "source": [
        "from scipy.io import wavfile\n",
        "from collections import defaultdict, Counter\n",
        "from scipy import signal\n",
        "import random as rn\n",
        "import warnings\n",
        "warnings.filterwarnings(\"ignore\")"
      ]
    },
    {
      "cell_type": "code",
      "execution_count": null,
      "metadata": {
        "id": "dgD3zBvBHOps"
      },
      "outputs": [],
      "source": [
        "import librosa\n",
        "from kapre.augmentation import SpecAugment\n",
        "from kapre.composed import get_melspectrogram_layer\n",
        "import IPython.display as ipd\n",
        "import matplotlib"
      ]
    },
    {
      "cell_type": "code",
      "execution_count": null,
      "metadata": {
        "id": "qkanXAFLuxdB"
      },
      "outputs": [],
      "source": [
        "%%capture\n",
        "!pip install kapre\n",
        "import sklearn\n",
        "import keras\n",
        "from tensorflow.keras.models import Sequential\n",
        "from tensorflow.keras.layers import InputLayer, Conv2D, MaxPooling2D, Flatten, Dense, Dropout, BatchNormalization\n",
        "from kapre.composed import get_melspectrogram_layer, get_log_frequency_spectrogram_layer\n",
        "from kapre.time_frequency import STFT, Magnitude, ApplyFilterbank, MagnitudeToDecibel\n",
        "from sklearn.model_selection import train_test_split"
      ]
    },
    {
      "cell_type": "code",
      "execution_count": null,
      "metadata": {
        "id": "oJZCIi3oETEe"
      },
      "outputs": [],
      "source": [
        "import librosa\n",
        "import librosa.display\n",
        "import numpy as np\n",
        "%matplotlib inline\n",
        "import matplotlib.pyplot as plt\n",
        "import imgaug.augmenters as iaa"
      ]
    },
    {
      "cell_type": "code",
      "execution_count": null,
      "metadata": {
        "id": "LeGq1QbaYiMv"
      },
      "outputs": [],
      "source": [
        "%%capture\n",
        "!pip -q install streamlit > /dev/null\n",
        "!pip -q install pyngrok > /dev/null\n",
        "!pip install streamlit-audiorec\n",
        "!apt install libasound2-dev portaudio19-dev libportaudio2 libportaudiocpp0 ffmpeg\n",
        "!pip install PyAudio\n",
        "!pip install pydub\n",
        "\n",
        "import io\n",
        "import pyaudio\n",
        "import pydub\n",
        "import numpy as np\n",
        "from pydub import AudioSegment\n",
        "from pydub.playback import play\n",
        "from st_audiorec import st_audiorec\n",
        "import tensorflow as tf\n",
        "import pandas as pd\n",
        "import numpy as np\n",
        "from pyngrok import ngrok"
      ]
    },
    {
      "cell_type": "code",
      "execution_count": null,
      "metadata": {
        "colab": {
          "base_uri": "https://localhost:8080/"
        },
        "id": "GQsShEkS72vb",
        "outputId": "e8e7a8c8-605e-4e28-d6b7-9e2665bdbd9b"
      },
      "outputs": [
        {
          "name": "stdout",
          "output_type": "stream",
          "text": [
            "Authtoken saved to configuration file: /root/.config/ngrok/ngrok.yml\n"
          ]
        }
      ],
      "source": [
        "!ngrok authtoken _____"
      ]
    },
    {
      "cell_type": "markdown",
      "source": [
        "# Data Preprocessing"
      ],
      "metadata": {
        "id": "WhAp6MsPs4ZX"
      }
    },
    {
      "cell_type": "code",
      "execution_count": null,
      "metadata": {
        "colab": {
          "base_uri": "https://localhost:8080/",
          "height": 424
        },
        "id": "1c5SwFBHGk_N",
        "outputId": "e6f250b6-fc08-4cd0-a364-92f02d3d36e6"
      },
      "outputs": [
        {
          "output_type": "execute_result",
          "data": {
            "text/plain": [
              "    Unnamed: 0                                   Passage 1  \\\n",
              "0            0   /content/drive/MyDrive/Passage 1/1_P1.wav   \n",
              "1            1   /content/drive/MyDrive/Passage 1/2_P1.wav   \n",
              "2            2   /content/drive/MyDrive/Passage 1/3_P1.wav   \n",
              "3            3   /content/drive/MyDrive/Passage 1/4_P1.wav   \n",
              "4            4   /content/drive/MyDrive/Passage 1/5_P1.wav   \n",
              "..         ...                                         ...   \n",
              "59          59  /content/drive/MyDrive/Passage 1/60_P1.wav   \n",
              "60          60  /content/drive/MyDrive/Passage 1/61_P1.wav   \n",
              "61          61  /content/drive/MyDrive/Passage 1/62_P1.wav   \n",
              "62          62  /content/drive/MyDrive/Passage 1/63_P1.wav   \n",
              "63          63  /content/drive/MyDrive/Passage 1/64_P1.wav   \n",
              "\n",
              "                                     Passage 2  BDI-Score  \\\n",
              "0    /content/drive/MyDrive/Passage 2/1_P2.wav         18   \n",
              "1    /content/drive/MyDrive/Passage 2/2_P2.wav         21   \n",
              "2    /content/drive/MyDrive/Passage 2/3_P2.wav          0   \n",
              "3    /content/drive/MyDrive/Passage 2/4_P2.wav         11   \n",
              "4    /content/drive/MyDrive/Passage 2/5_P2.wav          6   \n",
              "..                                         ...        ...   \n",
              "59  /content/drive/MyDrive/Passage 2/60_P2.wav         23   \n",
              "60  /content/drive/MyDrive/Passage 2/61_P2.wav         20   \n",
              "61  /content/drive/MyDrive/Passage 2/62_P2.wav         27   \n",
              "62  /content/drive/MyDrive/Passage 2/63_P2.wav         20   \n",
              "63  /content/drive/MyDrive/Passage 2/64_P2.wav         26   \n",
              "\n",
              "    Depressed/Not Depressed  \n",
              "0                         1  \n",
              "1                         1  \n",
              "2                         0  \n",
              "3                         0  \n",
              "4                         0  \n",
              "..                      ...  \n",
              "59                        1  \n",
              "60                        1  \n",
              "61                        1  \n",
              "62                        1  \n",
              "63                        1  \n",
              "\n",
              "[64 rows x 5 columns]"
            ],
            "text/html": [
              "\n",
              "  <div id=\"df-d93e9bd3-fd7e-41f3-9eb1-fcab0652e3d9\" class=\"colab-df-container\">\n",
              "    <div>\n",
              "<style scoped>\n",
              "    .dataframe tbody tr th:only-of-type {\n",
              "        vertical-align: middle;\n",
              "    }\n",
              "\n",
              "    .dataframe tbody tr th {\n",
              "        vertical-align: top;\n",
              "    }\n",
              "\n",
              "    .dataframe thead th {\n",
              "        text-align: right;\n",
              "    }\n",
              "</style>\n",
              "<table border=\"1\" class=\"dataframe\">\n",
              "  <thead>\n",
              "    <tr style=\"text-align: right;\">\n",
              "      <th></th>\n",
              "      <th>Unnamed: 0</th>\n",
              "      <th>Passage 1</th>\n",
              "      <th>Passage 2</th>\n",
              "      <th>BDI-Score</th>\n",
              "      <th>Depressed/Not Depressed</th>\n",
              "    </tr>\n",
              "  </thead>\n",
              "  <tbody>\n",
              "    <tr>\n",
              "      <th>0</th>\n",
              "      <td>0</td>\n",
              "      <td>/content/drive/MyDrive/Passage 1/1_P1.wav</td>\n",
              "      <td>/content/drive/MyDrive/Passage 2/1_P2.wav</td>\n",
              "      <td>18</td>\n",
              "      <td>1</td>\n",
              "    </tr>\n",
              "    <tr>\n",
              "      <th>1</th>\n",
              "      <td>1</td>\n",
              "      <td>/content/drive/MyDrive/Passage 1/2_P1.wav</td>\n",
              "      <td>/content/drive/MyDrive/Passage 2/2_P2.wav</td>\n",
              "      <td>21</td>\n",
              "      <td>1</td>\n",
              "    </tr>\n",
              "    <tr>\n",
              "      <th>2</th>\n",
              "      <td>2</td>\n",
              "      <td>/content/drive/MyDrive/Passage 1/3_P1.wav</td>\n",
              "      <td>/content/drive/MyDrive/Passage 2/3_P2.wav</td>\n",
              "      <td>0</td>\n",
              "      <td>0</td>\n",
              "    </tr>\n",
              "    <tr>\n",
              "      <th>3</th>\n",
              "      <td>3</td>\n",
              "      <td>/content/drive/MyDrive/Passage 1/4_P1.wav</td>\n",
              "      <td>/content/drive/MyDrive/Passage 2/4_P2.wav</td>\n",
              "      <td>11</td>\n",
              "      <td>0</td>\n",
              "    </tr>\n",
              "    <tr>\n",
              "      <th>4</th>\n",
              "      <td>4</td>\n",
              "      <td>/content/drive/MyDrive/Passage 1/5_P1.wav</td>\n",
              "      <td>/content/drive/MyDrive/Passage 2/5_P2.wav</td>\n",
              "      <td>6</td>\n",
              "      <td>0</td>\n",
              "    </tr>\n",
              "    <tr>\n",
              "      <th>...</th>\n",
              "      <td>...</td>\n",
              "      <td>...</td>\n",
              "      <td>...</td>\n",
              "      <td>...</td>\n",
              "      <td>...</td>\n",
              "    </tr>\n",
              "    <tr>\n",
              "      <th>59</th>\n",
              "      <td>59</td>\n",
              "      <td>/content/drive/MyDrive/Passage 1/60_P1.wav</td>\n",
              "      <td>/content/drive/MyDrive/Passage 2/60_P2.wav</td>\n",
              "      <td>23</td>\n",
              "      <td>1</td>\n",
              "    </tr>\n",
              "    <tr>\n",
              "      <th>60</th>\n",
              "      <td>60</td>\n",
              "      <td>/content/drive/MyDrive/Passage 1/61_P1.wav</td>\n",
              "      <td>/content/drive/MyDrive/Passage 2/61_P2.wav</td>\n",
              "      <td>20</td>\n",
              "      <td>1</td>\n",
              "    </tr>\n",
              "    <tr>\n",
              "      <th>61</th>\n",
              "      <td>61</td>\n",
              "      <td>/content/drive/MyDrive/Passage 1/62_P1.wav</td>\n",
              "      <td>/content/drive/MyDrive/Passage 2/62_P2.wav</td>\n",
              "      <td>27</td>\n",
              "      <td>1</td>\n",
              "    </tr>\n",
              "    <tr>\n",
              "      <th>62</th>\n",
              "      <td>62</td>\n",
              "      <td>/content/drive/MyDrive/Passage 1/63_P1.wav</td>\n",
              "      <td>/content/drive/MyDrive/Passage 2/63_P2.wav</td>\n",
              "      <td>20</td>\n",
              "      <td>1</td>\n",
              "    </tr>\n",
              "    <tr>\n",
              "      <th>63</th>\n",
              "      <td>63</td>\n",
              "      <td>/content/drive/MyDrive/Passage 1/64_P1.wav</td>\n",
              "      <td>/content/drive/MyDrive/Passage 2/64_P2.wav</td>\n",
              "      <td>26</td>\n",
              "      <td>1</td>\n",
              "    </tr>\n",
              "  </tbody>\n",
              "</table>\n",
              "<p>64 rows × 5 columns</p>\n",
              "</div>\n",
              "    <div class=\"colab-df-buttons\">\n",
              "\n",
              "  <div class=\"colab-df-container\">\n",
              "    <button class=\"colab-df-convert\" onclick=\"convertToInteractive('df-d93e9bd3-fd7e-41f3-9eb1-fcab0652e3d9')\"\n",
              "            title=\"Convert this dataframe to an interactive table.\"\n",
              "            style=\"display:none;\">\n",
              "\n",
              "  <svg xmlns=\"http://www.w3.org/2000/svg\" height=\"24px\" viewBox=\"0 -960 960 960\">\n",
              "    <path d=\"M120-120v-720h720v720H120Zm60-500h600v-160H180v160Zm220 220h160v-160H400v160Zm0 220h160v-160H400v160ZM180-400h160v-160H180v160Zm440 0h160v-160H620v160ZM180-180h160v-160H180v160Zm440 0h160v-160H620v160Z\"/>\n",
              "  </svg>\n",
              "    </button>\n",
              "\n",
              "  <style>\n",
              "    .colab-df-container {\n",
              "      display:flex;\n",
              "      gap: 12px;\n",
              "    }\n",
              "\n",
              "    .colab-df-convert {\n",
              "      background-color: #E8F0FE;\n",
              "      border: none;\n",
              "      border-radius: 50%;\n",
              "      cursor: pointer;\n",
              "      display: none;\n",
              "      fill: #1967D2;\n",
              "      height: 32px;\n",
              "      padding: 0 0 0 0;\n",
              "      width: 32px;\n",
              "    }\n",
              "\n",
              "    .colab-df-convert:hover {\n",
              "      background-color: #E2EBFA;\n",
              "      box-shadow: 0px 1px 2px rgba(60, 64, 67, 0.3), 0px 1px 3px 1px rgba(60, 64, 67, 0.15);\n",
              "      fill: #174EA6;\n",
              "    }\n",
              "\n",
              "    .colab-df-buttons div {\n",
              "      margin-bottom: 4px;\n",
              "    }\n",
              "\n",
              "    [theme=dark] .colab-df-convert {\n",
              "      background-color: #3B4455;\n",
              "      fill: #D2E3FC;\n",
              "    }\n",
              "\n",
              "    [theme=dark] .colab-df-convert:hover {\n",
              "      background-color: #434B5C;\n",
              "      box-shadow: 0px 1px 3px 1px rgba(0, 0, 0, 0.15);\n",
              "      filter: drop-shadow(0px 1px 2px rgba(0, 0, 0, 0.3));\n",
              "      fill: #FFFFFF;\n",
              "    }\n",
              "  </style>\n",
              "\n",
              "    <script>\n",
              "      const buttonEl =\n",
              "        document.querySelector('#df-d93e9bd3-fd7e-41f3-9eb1-fcab0652e3d9 button.colab-df-convert');\n",
              "      buttonEl.style.display =\n",
              "        google.colab.kernel.accessAllowed ? 'block' : 'none';\n",
              "\n",
              "      async function convertToInteractive(key) {\n",
              "        const element = document.querySelector('#df-d93e9bd3-fd7e-41f3-9eb1-fcab0652e3d9');\n",
              "        const dataTable =\n",
              "          await google.colab.kernel.invokeFunction('convertToInteractive',\n",
              "                                                    [key], {});\n",
              "        if (!dataTable) return;\n",
              "\n",
              "        const docLinkHtml = 'Like what you see? Visit the ' +\n",
              "          '<a target=\"_blank\" href=https://colab.research.google.com/notebooks/data_table.ipynb>data table notebook</a>'\n",
              "          + ' to learn more about interactive tables.';\n",
              "        element.innerHTML = '';\n",
              "        dataTable['output_type'] = 'display_data';\n",
              "        await google.colab.output.renderOutput(dataTable, element);\n",
              "        const docLink = document.createElement('div');\n",
              "        docLink.innerHTML = docLinkHtml;\n",
              "        element.appendChild(docLink);\n",
              "      }\n",
              "    </script>\n",
              "  </div>\n",
              "\n",
              "\n",
              "<div id=\"df-a2ea7dd1-e0ff-4d78-b110-3a251e302925\">\n",
              "  <button class=\"colab-df-quickchart\" onclick=\"quickchart('df-a2ea7dd1-e0ff-4d78-b110-3a251e302925')\"\n",
              "            title=\"Suggest charts\"\n",
              "            style=\"display:none;\">\n",
              "\n",
              "<svg xmlns=\"http://www.w3.org/2000/svg\" height=\"24px\"viewBox=\"0 0 24 24\"\n",
              "     width=\"24px\">\n",
              "    <g>\n",
              "        <path d=\"M19 3H5c-1.1 0-2 .9-2 2v14c0 1.1.9 2 2 2h14c1.1 0 2-.9 2-2V5c0-1.1-.9-2-2-2zM9 17H7v-7h2v7zm4 0h-2V7h2v10zm4 0h-2v-4h2v4z\"/>\n",
              "    </g>\n",
              "</svg>\n",
              "  </button>\n",
              "\n",
              "<style>\n",
              "  .colab-df-quickchart {\n",
              "      --bg-color: #E8F0FE;\n",
              "      --fill-color: #1967D2;\n",
              "      --hover-bg-color: #E2EBFA;\n",
              "      --hover-fill-color: #174EA6;\n",
              "      --disabled-fill-color: #AAA;\n",
              "      --disabled-bg-color: #DDD;\n",
              "  }\n",
              "\n",
              "  [theme=dark] .colab-df-quickchart {\n",
              "      --bg-color: #3B4455;\n",
              "      --fill-color: #D2E3FC;\n",
              "      --hover-bg-color: #434B5C;\n",
              "      --hover-fill-color: #FFFFFF;\n",
              "      --disabled-bg-color: #3B4455;\n",
              "      --disabled-fill-color: #666;\n",
              "  }\n",
              "\n",
              "  .colab-df-quickchart {\n",
              "    background-color: var(--bg-color);\n",
              "    border: none;\n",
              "    border-radius: 50%;\n",
              "    cursor: pointer;\n",
              "    display: none;\n",
              "    fill: var(--fill-color);\n",
              "    height: 32px;\n",
              "    padding: 0;\n",
              "    width: 32px;\n",
              "  }\n",
              "\n",
              "  .colab-df-quickchart:hover {\n",
              "    background-color: var(--hover-bg-color);\n",
              "    box-shadow: 0 1px 2px rgba(60, 64, 67, 0.3), 0 1px 3px 1px rgba(60, 64, 67, 0.15);\n",
              "    fill: var(--button-hover-fill-color);\n",
              "  }\n",
              "\n",
              "  .colab-df-quickchart-complete:disabled,\n",
              "  .colab-df-quickchart-complete:disabled:hover {\n",
              "    background-color: var(--disabled-bg-color);\n",
              "    fill: var(--disabled-fill-color);\n",
              "    box-shadow: none;\n",
              "  }\n",
              "\n",
              "  .colab-df-spinner {\n",
              "    border: 2px solid var(--fill-color);\n",
              "    border-color: transparent;\n",
              "    border-bottom-color: var(--fill-color);\n",
              "    animation:\n",
              "      spin 1s steps(1) infinite;\n",
              "  }\n",
              "\n",
              "  @keyframes spin {\n",
              "    0% {\n",
              "      border-color: transparent;\n",
              "      border-bottom-color: var(--fill-color);\n",
              "      border-left-color: var(--fill-color);\n",
              "    }\n",
              "    20% {\n",
              "      border-color: transparent;\n",
              "      border-left-color: var(--fill-color);\n",
              "      border-top-color: var(--fill-color);\n",
              "    }\n",
              "    30% {\n",
              "      border-color: transparent;\n",
              "      border-left-color: var(--fill-color);\n",
              "      border-top-color: var(--fill-color);\n",
              "      border-right-color: var(--fill-color);\n",
              "    }\n",
              "    40% {\n",
              "      border-color: transparent;\n",
              "      border-right-color: var(--fill-color);\n",
              "      border-top-color: var(--fill-color);\n",
              "    }\n",
              "    60% {\n",
              "      border-color: transparent;\n",
              "      border-right-color: var(--fill-color);\n",
              "    }\n",
              "    80% {\n",
              "      border-color: transparent;\n",
              "      border-right-color: var(--fill-color);\n",
              "      border-bottom-color: var(--fill-color);\n",
              "    }\n",
              "    90% {\n",
              "      border-color: transparent;\n",
              "      border-bottom-color: var(--fill-color);\n",
              "    }\n",
              "  }\n",
              "</style>\n",
              "\n",
              "  <script>\n",
              "    async function quickchart(key) {\n",
              "      const quickchartButtonEl =\n",
              "        document.querySelector('#' + key + ' button');\n",
              "      quickchartButtonEl.disabled = true;  // To prevent multiple clicks.\n",
              "      quickchartButtonEl.classList.add('colab-df-spinner');\n",
              "      try {\n",
              "        const charts = await google.colab.kernel.invokeFunction(\n",
              "            'suggestCharts', [key], {});\n",
              "      } catch (error) {\n",
              "        console.error('Error during call to suggestCharts:', error);\n",
              "      }\n",
              "      quickchartButtonEl.classList.remove('colab-df-spinner');\n",
              "      quickchartButtonEl.classList.add('colab-df-quickchart-complete');\n",
              "    }\n",
              "    (() => {\n",
              "      let quickchartButtonEl =\n",
              "        document.querySelector('#df-a2ea7dd1-e0ff-4d78-b110-3a251e302925 button');\n",
              "      quickchartButtonEl.style.display =\n",
              "        google.colab.kernel.accessAllowed ? 'block' : 'none';\n",
              "    })();\n",
              "  </script>\n",
              "</div>\n",
              "\n",
              "    </div>\n",
              "  </div>\n"
            ],
            "application/vnd.google.colaboratory.intrinsic+json": {
              "type": "dataframe",
              "variable_name": "df",
              "summary": "{\n  \"name\": \"df\",\n  \"rows\": 64,\n  \"fields\": [\n    {\n      \"column\": \"Unnamed: 0\",\n      \"properties\": {\n        \"dtype\": \"number\",\n        \"std\": 18,\n        \"min\": 0,\n        \"max\": 63,\n        \"num_unique_values\": 64,\n        \"samples\": [\n          52,\n          58,\n          0\n        ],\n        \"semantic_type\": \"\",\n        \"description\": \"\"\n      }\n    },\n    {\n      \"column\": \"Passage 1\",\n      \"properties\": {\n        \"dtype\": \"string\",\n        \"num_unique_values\": 64,\n        \"samples\": [\n          \"/content/drive/MyDrive/Passage 1/53_P1.wav\",\n          \"/content/drive/MyDrive/Passage 1/59_P1.wav\",\n          \"/content/drive/MyDrive/Passage 1/1_P1.wav\"\n        ],\n        \"semantic_type\": \"\",\n        \"description\": \"\"\n      }\n    },\n    {\n      \"column\": \"Passage 2\",\n      \"properties\": {\n        \"dtype\": \"string\",\n        \"num_unique_values\": 64,\n        \"samples\": [\n          \"/content/drive/MyDrive/Passage 2/53_P2.wav\",\n          \"/content/drive/MyDrive/Passage 2/59_P2.wav\",\n          \"/content/drive/MyDrive/Passage 2/1_P2.wav\"\n        ],\n        \"semantic_type\": \"\",\n        \"description\": \"\"\n      }\n    },\n    {\n      \"column\": \"BDI-Score\",\n      \"properties\": {\n        \"dtype\": \"number\",\n        \"std\": 10,\n        \"min\": 0,\n        \"max\": 45,\n        \"num_unique_values\": 31,\n        \"samples\": [\n          32,\n          28,\n          34\n        ],\n        \"semantic_type\": \"\",\n        \"description\": \"\"\n      }\n    },\n    {\n      \"column\": \"Depressed/Not Depressed\",\n      \"properties\": {\n        \"dtype\": \"number\",\n        \"std\": 0,\n        \"min\": 0,\n        \"max\": 1,\n        \"num_unique_values\": 2,\n        \"samples\": [\n          0,\n          1\n        ],\n        \"semantic_type\": \"\",\n        \"description\": \"\"\n      }\n    }\n  ]\n}"
            }
          },
          "metadata": {},
          "execution_count": 19
        }
      ],
      "source": [
        "df = pd.read_csv('/content/drive/MyDrive/AzSEF24/masterDataSheet.csv')\n",
        "df.head(64)"
      ]
    },
    {
      "cell_type": "code",
      "execution_count": null,
      "metadata": {
        "colab": {
          "base_uri": "https://localhost:8080/"
        },
        "id": "2lXv8dLCnKSa",
        "outputId": "3454b3f1-961f-45a5-9efd-e2bb93b20fc2"
      },
      "outputs": [
        {
          "name": "stdout",
          "output_type": "stream",
          "text": [
            "(64, 13, 5300)\n",
            "(64,)\n"
          ]
        }
      ],
      "source": [
        "def extract_mfcc(filename, desired_length, n_mfcc):\n",
        "    # Load audio file\n",
        "    y, sr = librosa.load(filename)\n",
        "\n",
        "    # Extract MFCC features\n",
        "    mfcc = librosa.feature.mfcc(y=y, sr=sr, n_mfcc=n_mfcc)\n",
        "\n",
        "    # Trim or pad the temporal dimension\n",
        "    mfcc_processed = librosa.util.fix_length(mfcc, size=desired_length, axis=1)\n",
        "\n",
        "    return mfcc_processed\n",
        "\n",
        "\n",
        "#Data Pre-Processing\n",
        "X = []\n",
        "y = []\n",
        "dual_representation = True\n",
        "\n",
        "for i, row in df.iterrows():\n",
        "  mfcc = extract_mfcc(row['Passage 1'], 1300, 13)\n",
        "  mfcc2 = extract_mfcc(row['Passage 2'], 4000, 13)\n",
        "  score = row['Depressed/Not Depressed']\n",
        "  if dual_representation:\n",
        "    features = np.concatenate((mfcc, mfcc2), axis=1)\n",
        "    X.append(features)\n",
        "    y.append(score)\n",
        "  else:\n",
        "    X.append(mfcc)\n",
        "    # X.append(mfcc2)\n",
        "    y.append(score)\n",
        "    # y.append(score)\n",
        "\n",
        "X = np.array(X)\n",
        "y = np.array(y)\n",
        "print(X.shape)\n",
        "print(y.shape)"
      ]
    },
    {
      "cell_type": "code",
      "execution_count": null,
      "metadata": {
        "colab": {
          "base_uri": "https://localhost:8080/"
        },
        "id": "FXeTTuhROHvO",
        "outputId": "cc9bc263-0a57-4d63-8aa2-7d0e6909c638"
      },
      "outputs": [
        {
          "name": "stdout",
          "output_type": "stream",
          "text": [
            "(64, 5300, 13)\n"
          ]
        }
      ],
      "source": [
        "X = X.transpose(0, 2, 1)\n",
        "print(X.shape)"
      ]
    },
    {
      "cell_type": "code",
      "execution_count": null,
      "metadata": {
        "id": "TeB1bHE0E-pQ"
      },
      "outputs": [],
      "source": [
        "import imgaug.augmenters as iaa\n",
        "\n",
        "def augment_audio_data(X, y, num_augmented_samples=5):\n",
        "    augmented_samples = []\n",
        "    scores = []\n",
        "\n",
        "    augmentation_pipeline = iaa.Sequential([\n",
        "        iaa.BlendAlphaFrequencyNoise(\n",
        "            exponent=(-2, 2),\n",
        "            foreground=iaa.Multiply((0.8, 1.2), per_channel=True),\n",
        "            background=iaa.LinearContrast((0.8, 1.2))\n",
        "        )\n",
        "    ])\n",
        "\n",
        "    for index, audio_sample in enumerate(X):\n",
        "        label = y[index]\n",
        "        for _ in range(num_augmented_samples):\n",
        "            augmented_sample = augmentation_pipeline.augment_image(audio_sample)\n",
        "            augmented_samples.append(augmented_sample)\n",
        "            show_augmented_mfcc(augmented_samples, num_augmented_samples)\n",
        "            scores.append(label)\n",
        "    augmented_samples = np.array(augmented_samples)\n",
        "    scores = np.array(scores)\n",
        "\n",
        "    X_combined = np.concatenate([X, augmented_samples], axis=0)\n",
        "\n",
        "    y_combined = np.concatenate([y, scores], axis=0)\n",
        "\n",
        "    return X_combined, y_combined"
      ]
    },
    {
      "cell_type": "code",
      "execution_count": null,
      "metadata": {
        "id": "qG85Yrg0IXg_"
      },
      "outputs": [],
      "source": [
        "def show_augmented_mfcc(augmented_mfccs, num_augmented_samples, figsize=(30, 30)):\n",
        "    # Display the augmented mel spectrograms\n",
        "    plt.figure(figsize=figsize)  # Set the overall figure size\n",
        "\n",
        "    for i, augmented_mfcc in enumerate(augmented_mfccs):\n",
        "        plt.subplot(2, num_augmented_samples + 1, i + 2)\n",
        "        librosa.display.specshow(\n",
        "            y_axis='coefficients',\n",
        "            x_axis='time',\n",
        "            sr=22050,  # replace your_sampling_rate with the actual sampling rate\n",
        "            hop_length=256  # replace your_hop_length with the actual hop length\n",
        "        )\n",
        "        plt.colorbar()\n",
        "        plt.title(f'Augmented #{i + 1}')\n",
        "\n",
        "    # Adjust layout\n",
        "    plt.show()"
      ]
    },
    {
      "cell_type": "markdown",
      "metadata": {
        "id": "Xfu_ClMIHU62"
      },
      "source": [
        "# CNN Model"
      ]
    },
    {
      "cell_type": "code",
      "execution_count": null,
      "metadata": {
        "id": "cPwWj5WjHSkB"
      },
      "outputs": [],
      "source": [
        "from keras.callbacks import ModelCheckpoint\n",
        "from keras.callbacks import EarlyStopping\n",
        "import imgaug.augmenters as iaa\n",
        "\n",
        "import tensorflow as tf\n",
        "import kapre\n",
        "import numpy as np\n",
        "\n",
        "X_train, X_test, y_train, y_test = train_test_split(X, y, test_size = 0.2, random_state = 2)\n",
        "\n",
        "X_combined, y_combined = augment_audio_data(X_train, y_train, 2)\n",
        "\n",
        "kwargs = {\n",
        "    'sample_rate': 22050,\n",
        "    'n_freq': 512 // 2 + 1,\n",
        "    'n_mels': 13,\n",
        "    'f_min': 0.0,\n",
        "    'f_max': 8000\n",
        "  }\n",
        "\n",
        "input_shape = (5300, 13)\n",
        "\n",
        "model = Sequential()\n",
        "model.add(InputLayer(input_shape=input_shape))\n",
        "\n",
        "# STFT -> Magnitude\n",
        "model.add(STFT(n_fft=512, win_length=512, hop_length=256, input_data_format='channels_last',\n",
        "               output_data_format='channels_last'))\n",
        "model.add(Magnitude())\n",
        "\n",
        "# ApplyFilterbank (Mel-filterbank)\n",
        "model.add(ApplyFilterbank(type='mel', filterbank_kwargs=kwargs))\n",
        "\n",
        "# MagnitudeToDecibel\n",
        "model.add(MagnitudeToDecibel())\n",
        "\n",
        "# Batch Normalization\n",
        "model.add(BatchNormalization())\n",
        "\n",
        "# Conv2D and Max Pooling Layers (with adjustments)\n",
        "model.add(Conv2D(32, kernel_size=(3, 3), activation='relu', padding='same', use_bias=True))\n",
        "model.add(MaxPooling2D(pool_size=(2, 2)))\n",
        "\n",
        "model.add(Conv2D(16, kernel_size=(3, 3), activation='relu', padding='same', use_bias=True))\n",
        "model.add(MaxPooling2D(pool_size=(2, 2)))\n",
        "\n",
        "model.add(Conv2D(8, kernel_size=(3, 3), activation='relu', padding='same', use_bias=True, kernel_regularizer = tf.keras.regularizers.l2(l=0.0001)))\n",
        "\n",
        "#Flatten, dropout, and dense layers\n",
        "model.add(Flatten())\n",
        "model.add(Dropout(0.6))\n",
        "model.add(Dense(16, activation='relu'))\n",
        "model.add(Dense(1, activation='sigmoid'))\n",
        "\n",
        "opt = keras.optimizers.Adam(learning_rate=1e-4)\n",
        "\n",
        "# Let's train the model using adam\n",
        "model.compile(loss='binary_crossentropy',\n",
        "              optimizer=opt,\n",
        "              metrics=['accuracy'])\n",
        "\n",
        "\n",
        "checkpoint = ModelCheckpoint('best_model.h5', monitor=\"val_accuracy\", verbose=1, save_best_only=True, mode=\"max\")\n",
        "\n",
        "# Train the CNN and plot accuracy.\n",
        "history = model.fit(X_combined, y_combined, epochs=100, batch_size=6, validation_split = 0.2, shuffle=True, callbacks=[checkpoint])\n",
        "\n",
        "import matplotlib.pyplot as plt\n",
        "def show_final_history(history):\n",
        "    fig, ax = plt.subplots(1, 2, figsize=(15,5))\n",
        "    ax[0].set_title('loss')\n",
        "    ax[0].plot(history.epoch, history.history[\"loss\"], label=\"Train loss\")\n",
        "    ax[0].plot(history.epoch, history.history[\"val_loss\"], label=\"Validation loss\")\n",
        "    ax[1].set_title('acc')\n",
        "    ax[1].plot(history.epoch, history.history[\"accuracy\"], label=\"Train acc\")\n",
        "    ax[1].plot(history.epoch, history.history[\"val_accuracy\"], label=\"Validation acc\")\n",
        "    ax[0].legend()\n",
        "    ax[1].legend()\n",
        "\n",
        "show_final_history(history)"
      ]
    },
    {
      "cell_type": "markdown",
      "metadata": {
        "id": "4yx2wWE8kijm"
      },
      "source": [
        "Accuracy Check"
      ]
    },
    {
      "cell_type": "code",
      "execution_count": null,
      "metadata": {
        "colab": {
          "base_uri": "https://localhost:8080/"
        },
        "id": "hAj6Xh5pKv0I",
        "outputId": "3d2a7739-6dcf-4926-9ba3-6b024adf6c76"
      },
      "outputs": [
        {
          "name": "stdout",
          "output_type": "stream",
          "text": [
            "1/1 [==============================] - 0s 408ms/step - loss: 0.4659 - accuracy: 0.9231\n"
          ]
        }
      ],
      "source": [
        "from keras.models import load_model\n",
        "from keras.utils import custom_object_scope\n",
        "import imgaug.augmenters as iaa\n",
        "\n",
        "model = load_model('best_model.h5', custom_objects={'STFT':kapre.time_frequency.STFT,\n",
        "                       'Magnitude':kapre.time_frequency.Magnitude,\n",
        "                       'ApplyFilterbank': kapre.time_frequency.ApplyFilterbank,\n",
        "                       'MagnitudeToDecibel':kapre.time_frequency.MagnitudeToDecibel})\n",
        "#tf.keras.utils.get_custom_objects().update({'ImgAugAugmentation': ImgAugAugmentation})\n",
        "\n",
        "predictions = model.evaluate(X_test, y_test)"
      ]
    }
  ]
}