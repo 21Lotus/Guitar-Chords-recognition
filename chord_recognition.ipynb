{
 "cells": [
  {
   "cell_type": "code",
   "execution_count": 9,
   "metadata": {},
   "outputs": [],
   "source": [
    "import tensorflow as tf\n",
    "import keras\n",
    "from keras.layers import Activation, Dense, Dropout, Conv2D, \\\n",
    "                         Flatten, MaxPooling2D\n",
    "from keras.models import Sequential\n",
    "import librosa\n",
    "import librosa.display\n",
    "import numpy as np\n",
    "import pandas as pd\n",
    "import random\n",
    "\n",
    "import warnings\n",
    "warnings.filterwarnings('ignore')"
   ]
  },
  {
   "cell_type": "code",
   "execution_count": 10,
   "metadata": {},
   "outputs": [
    {
     "data": {
      "text/plain": [
       "['/job:localhost/replica:0/task:0/device:GPU:0']"
      ]
     },
     "execution_count": 10,
     "metadata": {},
     "output_type": "execute_result"
    }
   ],
   "source": [
    "from keras import backend as K\n",
    "K.tensorflow_backend._get_available_gpus()"
   ]
  },
  {
   "cell_type": "code",
   "execution_count": 13,
   "metadata": {},
   "outputs": [
    {
     "data": {
      "text/html": [
       "<div>\n",
       "<style scoped>\n",
       "    .dataframe tbody tr th:only-of-type {\n",
       "        vertical-align: middle;\n",
       "    }\n",
       "\n",
       "    .dataframe tbody tr th {\n",
       "        vertical-align: top;\n",
       "    }\n",
       "\n",
       "    .dataframe thead th {\n",
       "        text-align: right;\n",
       "    }\n",
       "</style>\n",
       "<table border=\"1\" class=\"dataframe\">\n",
       "  <thead>\n",
       "    <tr style=\"text-align: right;\">\n",
       "      <th></th>\n",
       "      <th>file_name</th>\n",
       "      <th>classID</th>\n",
       "      <th>classname</th>\n",
       "    </tr>\n",
       "  </thead>\n",
       "  <tbody>\n",
       "    <tr>\n",
       "      <th>0</th>\n",
       "      <td>a1.wav</td>\n",
       "      <td>0</td>\n",
       "      <td>a</td>\n",
       "    </tr>\n",
       "    <tr>\n",
       "      <th>1</th>\n",
       "      <td>a2.wav</td>\n",
       "      <td>0</td>\n",
       "      <td>a</td>\n",
       "    </tr>\n",
       "    <tr>\n",
       "      <th>2</th>\n",
       "      <td>a3.wav</td>\n",
       "      <td>0</td>\n",
       "      <td>a</td>\n",
       "    </tr>\n",
       "    <tr>\n",
       "      <th>3</th>\n",
       "      <td>a4.wav</td>\n",
       "      <td>0</td>\n",
       "      <td>a</td>\n",
       "    </tr>\n",
       "    <tr>\n",
       "      <th>4</th>\n",
       "      <td>a5.wav</td>\n",
       "      <td>0</td>\n",
       "      <td>a</td>\n",
       "    </tr>\n",
       "  </tbody>\n",
       "</table>\n",
       "</div>"
      ],
      "text/plain": [
       "  file_name  classID classname\n",
       "0    a1.wav        0         a\n",
       "1    a2.wav        0         a\n",
       "2    a3.wav        0         a\n",
       "3    a4.wav        0         a\n",
       "4    a5.wav        0         a"
      ]
     },
     "execution_count": 13,
     "metadata": {},
     "output_type": "execute_result"
    }
   ],
   "source": [
    "# Read Data\n",
    "data = pd.read_csv('datasets/dataset/metadata/chords.csv')\n",
    "data.head(5)"
   ]
  },
  {
   "cell_type": "code",
   "execution_count": 14,
   "metadata": {},
   "outputs": [
    {
     "data": {
      "text/plain": [
       "(2000, 3)"
      ]
     },
     "execution_count": 14,
     "metadata": {},
     "output_type": "execute_result"
    }
   ],
   "source": [
    "data.shape"
   ]
  },
  {
   "cell_type": "code",
   "execution_count": 6,
   "metadata": {},
   "outputs": [
    {
     "data": {
      "text/plain": [
       "(2000, 3)"
      ]
     },
     "execution_count": 6,
     "metadata": {},
     "output_type": "execute_result"
    }
   ],
   "source": [
    "valid_data=data\n",
    "valid_data.shape"
   ]
  },
  {
   "cell_type": "code",
   "execution_count": 17,
   "metadata": {},
   "outputs": [
    {
     "data": {
      "text/plain": [
       "(128, 87)"
      ]
     },
     "execution_count": 17,
     "metadata": {},
     "output_type": "execute_result"
    }
   ],
   "source": [
    "# Example of a Siren spectrogram\n",
    "y, sr = librosa.load('datasets/dataset/audio/Guitar_Only/am/am89.wav',duration=2)\n",
    "ps = librosa.feature.melspectrogram(y=y, sr=sr)\n",
    "ps.shape\n"
   ]
  },
  {
   "cell_type": "code",
   "execution_count": 18,
   "metadata": {},
   "outputs": [
    {
     "data": {
      "text/plain": [
       "<matplotlib.axes._subplots.AxesSubplot at 0x7f806c4039b0>"
      ]
     },
     "execution_count": 18,
     "metadata": {},
     "output_type": "execute_result"
    },
    {
     "data": {
      "image/png": "[encoded data removed]",
      "text/plain": [
       "<Figure size 432x288 with 1 Axes>"
      ]
     },
     "metadata": {
      "needs_background": "light"
     },
     "output_type": "display_data"
    }
   ],
   "source": [
    "librosa.display.specshow(ps, y_axis='mel', x_axis='time')"
   ]
  },
  {
   "cell_type": "code",
   "execution_count": 8,
   "metadata": {},
   "outputs": [
    {
     "data": {
      "text/plain": [
       "(128, 87)"
      ]
     },
     "execution_count": 8,
     "metadata": {},
     "output_type": "execute_result"
    }
   ],
   "source": [
    "# Example of a Siren spectrogram\n",
    "y, sr = librosa.load('datasets/dataset/audio/Guitar_Only/em/em69.wav',duration=2)\n",
    "ps = librosa.feature.melspectrogram(y=y, sr=sr,)\n",
    "ps.shape\n"
   ]
  },
  {
   "cell_type": "code",
   "execution_count": 9,
   "metadata": {},
   "outputs": [
    {
     "data": {
      "text/plain": [
       "<matplotlib.axes._subplots.AxesSubplot at 0x7f456c102470>"
      ]
     },
     "execution_count": 9,
     "metadata": {},
     "output_type": "execute_result"
    },
    {
     "data": {
      "image/png": "[encoded data removed]",
      "text/plain": [
       "<Figure size 432x288 with 1 Axes>"
      ]
     },
     "metadata": {
      "needs_background": "light"
     },
     "output_type": "display_data"
    }
   ],
   "source": [
    "librosa.display.specshow(ps, y_axis='mel', x_axis='time')"
   ]
  },
  {
   "cell_type": "code",
   "execution_count": 10,
   "metadata": {},
   "outputs": [
    {
     "data": {
      "text/plain": [
       "(128, 87)"
      ]
     },
     "execution_count": 10,
     "metadata": {},
     "output_type": "execute_result"
    }
   ],
   "source": [
    "# Example of a Siren spectrogram\n",
    "y, sr = librosa.load('datasets/dataset/audio/Guitar_Only/g/g200.wav',duration=2)\n",
    "ps = librosa.feature.melspectrogram(y=y, sr=sr,)\n",
    "ps.shape\n",
    "\n"
   ]
  },
  {
   "cell_type": "code",
   "execution_count": 11,
   "metadata": {},
   "outputs": [
    {
     "data": {
      "text/plain": [
       "<matplotlib.axes._subplots.AxesSubplot at 0x7f456c07c668>"
      ]
     },
     "execution_count": 11,
     "metadata": {},
     "output_type": "execute_result"
    },
    {
     "data": {
      "image/png": "[encoded data removed]",
      "text/plain": [
       "<Figure size 432x288 with 1 Axes>"
      ]
     },
     "metadata": {
      "needs_background": "light"
     },
     "output_type": "display_data"
    }
   ],
   "source": [
    "librosa.display.specshow(ps, y_axis='mel', x_axis='time')"
   ]
  },
  {
   "cell_type": "code",
   "execution_count": 12,
   "metadata": {},
   "outputs": [
    {
     "data": {
      "text/plain": [
       "(128, 79)"
      ]
     },
     "execution_count": 12,
     "metadata": {},
     "output_type": "execute_result"
    }
   ],
   "source": [
    "# Example of a Siren spectrogram\n",
    "y, sr = librosa.load('datasets/dataset/audio/Guitar_Only/dm/dm100.wav',duration=2)\n",
    "ps = librosa.feature.melspectrogram(y=y, sr=sr)\n",
    "ps.shape\n"
   ]
  },
  {
   "cell_type": "code",
   "execution_count": 13,
   "metadata": {},
   "outputs": [
    {
     "data": {
      "text/plain": [
       "<matplotlib.axes._subplots.AxesSubplot at 0x7f45583ba1d0>"
      ]
     },
     "execution_count": 13,
     "metadata": {},
     "output_type": "execute_result"
    },
    {
     "data": {
      "image/png": "[encoded data removed]",
      "text/plain": [
       "<Figure size 432x288 with 1 Axes>"
      ]
     },
     "metadata": {
      "needs_background": "light"
     },
     "output_type": "display_data"
    }
   ],
   "source": [
    "librosa.display.specshow(ps, y_axis='mel', x_axis='time')"
   ]
  },
  {
   "cell_type": "code",
   "execution_count": 19,
   "metadata": {},
   "outputs": [],
   "source": [
    "valid_data['path'] =  valid_data['classname'].astype('str') + '/' + valid_data['file_name'].astype('str')"
   ]
  },
  {
   "cell_type": "code",
   "execution_count": 23,
   "metadata": {},
   "outputs": [],
   "source": [
    "D = [] # Dataset\n",
    "\n",
    "for row in valid_data.itertuples():\n",
    "    y, sr = librosa.load('datasets/dataset/audio/Guitar_Only/' + row.path,duration=2)  \n",
    "    ps = librosa.feature.melspectrogram(y=y, sr=sr)\n",
    "    if ps.shape != (128, 87): continue\n",
    "    D.append( (ps, row.classID) )"
   ]
  },
  {
   "cell_type": "code",
   "execution_count": 24,
   "metadata": {},
   "outputs": [
    {
     "name": "stdout",
     "output_type": "stream",
     "text": [
      "Number of samples:  633\n"
     ]
    }
   ],
   "source": [
    "print(\"Number of samples: \", len(D))"
   ]
  },
  {
   "cell_type": "code",
   "execution_count": 25,
   "metadata": {},
   "outputs": [],
   "source": [
    "dataset = D\n",
    "random.shuffle(dataset)\n",
    "\n",
    "train = dataset[:500]\n",
    "test = dataset[500:]\n",
    "\n",
    "\n"
   ]
  },
  {
   "cell_type": "code",
   "execution_count": 11,
   "metadata": {},
   "outputs": [
    {
     "name": "stdout",
     "output_type": "stream",
     "text": [
      "(array([[9.52675048e-05, 2.00366080e-04, 2.38692748e-04, ...,\n",
      "        7.74645795e-04, 5.43920257e-04, 2.63539335e-04],\n",
      "       [1.42070538e-05, 1.14087996e-04, 2.76787563e-04, ...,\n",
      "        7.13397699e-06, 4.53298258e-06, 5.44526140e-06],\n",
      "       [5.93618105e-05, 9.04152098e-04, 1.83172125e-02, ...,\n",
      "        1.00968256e-04, 6.88441465e-05, 8.31746349e-05],\n",
      "       ...,\n",
      "       [1.62716236e-08, 9.55521321e-08, 3.46890219e-07, ...,\n",
      "        4.06550707e-08, 1.33339888e-08, 1.06234284e-08],\n",
      "       [8.39884594e-09, 1.06265874e-07, 4.94977719e-07, ...,\n",
      "        9.12681540e-09, 5.27039859e-09, 4.08229752e-09],\n",
      "       [4.69355714e-09, 3.43316895e-09, 7.49775419e-09, ...,\n",
      "        6.82561625e-10, 6.22172959e-10, 5.83746454e-10]]), 0)\n",
      "(128, 87)\n",
      "0.00020036607966662033\n",
      "0\n"
     ]
    }
   ],
   "source": [
    "print(train[0])\n",
    "print(train[0][0].shape)   #shape of input image\n",
    "print(train[0][0][0][1])\n",
    "print(train[0][1])    #output class id"
   ]
  },
  {
   "cell_type": "code",
   "execution_count": 12,
   "metadata": {},
   "outputs": [
    {
     "name": "stdout",
     "output_type": "stream",
     "text": [
      "(128, 87)\n",
      "[[9.52675048e-05 2.00366080e-04 2.38692748e-04 ... 7.74645795e-04\n",
      "  5.43920257e-04 2.63539335e-04]\n",
      " [1.42070538e-05 1.14087996e-04 2.76787563e-04 ... 7.13397699e-06\n",
      "  4.53298258e-06 5.44526140e-06]\n",
      " [5.93618105e-05 9.04152098e-04 1.83172125e-02 ... 1.00968256e-04\n",
      "  6.88441465e-05 8.31746349e-05]\n",
      " ...\n",
      " [1.62716236e-08 9.55521321e-08 3.46890219e-07 ... 4.06550707e-08\n",
      "  1.33339888e-08 1.06234284e-08]\n",
      " [8.39884594e-09 1.06265874e-07 4.94977719e-07 ... 9.12681540e-09\n",
      "  5.27039859e-09 4.08229752e-09]\n",
      " [4.69355714e-09 3.43316895e-09 7.49775419e-09 ... 6.82561625e-10\n",
      "  6.22172959e-10 5.83746454e-10]]\n",
      "0\n"
     ]
    }
   ],
   "source": [
    "X_train, y_train = zip(*train)\n",
    "X_test, y_test = zip(*test)\n",
    "print(X_train[0].shape)\n",
    "print(X_train[0])\n",
    "print(y_train[0])"
   ]
  },
  {
   "cell_type": "code",
   "execution_count": 13,
   "metadata": {},
   "outputs": [],
   "source": [
    "\n",
    "# Reshape for CNN input\n",
    "X_train = np.array([x.reshape( (128, 87, 1) ) for x in X_train])\n",
    "X_test = np.array([x.reshape( (128, 87, 1) ) for x in X_test])\n",
    "\n"
   ]
  },
  {
   "cell_type": "code",
   "execution_count": 48,
   "metadata": {},
   "outputs": [
    {
     "name": "stdout",
     "output_type": "stream",
     "text": [
      "(128, 87, 1)\n",
      "[0. 1. 0. 0. 0. 0. 0. 0. 0. 0.]\n"
     ]
    }
   ],
   "source": [
    "print(X_train[0].shape)\n",
    "print(y_train[0])"
   ]
  },
  {
   "cell_type": "code",
   "execution_count": 15,
   "metadata": {},
   "outputs": [],
   "source": [
    "# One-Hot encoding for classes\n",
    "y_train = np.array(keras.utils.to_categorical(y_train, 10))\n",
    "y_test_values=y_test\n",
    "y_test = np.array(keras.utils.to_categorical(y_test, 10))\n",
    "\n"
   ]
  },
  {
   "cell_type": "code",
   "execution_count": 16,
   "metadata": {},
   "outputs": [
    {
     "name": "stdout",
     "output_type": "stream",
     "text": [
      "[1. 0. 0. 0. 0. 0. 0. 0. 0. 0.]\n"
     ]
    }
   ],
   "source": [
    "print(y_train[0])"
   ]
  },
  {
   "cell_type": "code",
   "execution_count": 3,
   "metadata": {},
   "outputs": [],
   "source": [
    "model = Sequential()\n",
    "input_shape=(128, 87, 1)\n",
    "\n",
    "model.add(Conv2D(24, (5, 5), strides=(1, 1), input_shape=input_shape))\n",
    "model.add(MaxPooling2D((4, 2), strides=(4, 2)))\n",
    "model.add(Activation('relu'))\n",
    "\n",
    "model.add(Conv2D(48, (5, 5), padding=\"valid\"))\n",
    "model.add(MaxPooling2D((4, 2), strides=(4, 2)))\n",
    "model.add(Activation('relu'))\n",
    "\n",
    "model.add(Conv2D(48, (5, 5), padding=\"valid\"))\n",
    "model.add(Activation('relu'))\n",
    "\n",
    "model.add(Flatten())\n",
    "model.add(Dropout(rate=0.5))\n",
    "\n",
    "model.add(Dense(64))\n",
    "model.add(Activation('relu'))\n",
    "model.add(Dropout(rate=0.5))\n",
    "\n",
    "model.add(Dense(10))\n",
    "model.add(Activation('softmax'))"
   ]
  },
  {
   "cell_type": "code",
   "execution_count": 4,
   "metadata": {},
   "outputs": [
    {
     "name": "stdout",
     "output_type": "stream",
     "text": [
      "_________________________________________________________________\n",
      "Layer (type)                 Output Shape              Param #   \n",
      "=================================================================\n",
      "conv2d_1 (Conv2D)            (None, 124, 83, 24)       624       \n",
      "_________________________________________________________________\n",
      "max_pooling2d_1 (MaxPooling2 (None, 31, 41, 24)        0         \n",
      "_________________________________________________________________\n",
      "activation_1 (Activation)    (None, 31, 41, 24)        0         \n",
      "_________________________________________________________________\n",
      "conv2d_2 (Conv2D)            (None, 27, 37, 48)        28848     \n",
      "_________________________________________________________________\n",
      "max_pooling2d_2 (MaxPooling2 (None, 6, 18, 48)         0         \n",
      "_________________________________________________________________\n",
      "activation_2 (Activation)    (None, 6, 18, 48)         0         \n",
      "_________________________________________________________________\n",
      "conv2d_3 (Conv2D)            (None, 2, 14, 48)         57648     \n",
      "_________________________________________________________________\n",
      "activation_3 (Activation)    (None, 2, 14, 48)         0         \n",
      "_________________________________________________________________\n",
      "flatten_1 (Flatten)          (None, 1344)              0         \n",
      "_________________________________________________________________\n",
      "dropout_1 (Dropout)          (None, 1344)              0         \n",
      "_________________________________________________________________\n",
      "dense_1 (Dense)              (None, 64)                86080     \n",
      "_________________________________________________________________\n",
      "activation_4 (Activation)    (None, 64)                0         \n",
      "_________________________________________________________________\n",
      "dropout_2 (Dropout)          (None, 64)                0         \n",
      "_________________________________________________________________\n",
      "dense_2 (Dense)              (None, 10)                650       \n",
      "_________________________________________________________________\n",
      "activation_5 (Activation)    (None, 10)                0         \n",
      "=================================================================\n",
      "Total params: 173,850\n",
      "Trainable params: 173,850\n",
      "Non-trainable params: 0\n",
      "_________________________________________________________________\n"
     ]
    }
   ],
   "source": [
    "model.summary()\n"
   ]
  },
  {
   "cell_type": "code",
   "execution_count": 26,
   "metadata": {},
   "outputs": [],
   "source": [
    "def precision(y_true, y_pred):\n",
    "    '''Calculates the precision, a metric for multi-label classification of\n",
    "    how many selected items are relevant.\n",
    "    '''\n",
    "    true_positives = K.sum(K.round(K.clip(y_true * y_pred, 0, 1)))\n",
    "    predicted_positives = K.sum(K.round(K.clip(y_pred, 0, 1)))\n",
    "    precision = true_positives / (predicted_positives + K.epsilon())\n",
    "    return precision\n",
    "\n",
    "\n",
    "def recall(y_true, y_pred):\n",
    "    '''Calculates the recall, a metric for multi-label classification of\n",
    "    how many relevant items are selected.\n",
    "    '''\n",
    "    true_positives = K.sum(K.round(K.clip(y_true * y_pred, 0, 1)))\n",
    "    possible_positives = K.sum(K.round(K.clip(y_true, 0, 1)))\n",
    "    recall = true_positives / (possible_positives + K.epsilon())\n",
    "    return recall\n",
    "\n",
    "\n",
    "def fbeta_score(y_true, y_pred, beta=1):\n",
    "    '''Calculates the F score, the weighted harmonic mean of precision and recall.\n",
    "    This is useful for multi-label classification, where input samples can be\n",
    "    classified as sets of labels. By only using accuracy (precision) a model\n",
    "    would achieve a perfect score by simply assigning every class to every\n",
    "    input. In order to avoid this, a metric should penalize incorrect class\n",
    "    assignments as well (recall). The F-beta score (ranged from 0.0 to 1.0)\n",
    "    computes this, as a weighted mean of the proportion of correct class\n",
    "    assignments vs. the proportion of incorrect class assignments.\n",
    "    With beta = 1, this is equivalent to a F-measure. With beta < 1, assigning\n",
    "    correct classes becomes more important, and with beta > 1 the metric is\n",
    "    instead weighted towards penalizing incorrect class assignments.\n",
    "    '''\n",
    "    if beta < 0:\n",
    "        raise ValueError('The lowest choosable beta is zero (only precision).')\n",
    "        \n",
    "    # If there are no true positives, fix the F score at 0 like sklearn.\n",
    "    if K.sum(K.round(K.clip(y_true, 0, 1))) == 0:\n",
    "        return 0\n",
    "\n",
    "    p = precision(y_true, y_pred)\n",
    "    r = recall(y_true, y_pred)\n",
    "    bb = beta ** 2\n",
    "    fbeta_score = (1 + bb) * (p * r) / (bb * p + r + K.epsilon())\n",
    "    return fbeta_score\n",
    "\n",
    "\n",
    "def fmeasure(y_true, y_pred):\n",
    "    '''Calculates the f-measure, the harmonic mean of precision and recall.\n",
    "    '''\n",
    "    return fbeta_score(y_true, y_pred, beta=1)"
   ]
  },
  {
   "cell_type": "code",
   "execution_count": 32,
   "metadata": {},
   "outputs": [
    {
     "name": "stdout",
     "output_type": "stream",
     "text": [
      "Train on 500 samples, validate on 133 samples\n",
      "Epoch 1/70\n",
      "500/500 [==============================] - 1s 1ms/step - loss: 0.3348 - acc: 0.8620 - precision: 0.8926 - recall: 0.8120 - fmeasure: 0.8490 - val_loss: 0.5977 - val_acc: 0.8271 - val_precision: 0.8540 - val_recall: 0.8045 - val_fmeasure: 0.8281\n",
      "Epoch 2/70\n",
      "500/500 [==============================] - 0s 453us/step - loss: 0.3402 - acc: 0.8500 - precision: 0.8832 - recall: 0.8140 - fmeasure: 0.8462 - val_loss: 0.5331 - val_acc: 0.8421 - val_precision: 0.8527 - val_recall: 0.8271 - val_fmeasure: 0.8395\n",
      "Epoch 3/70\n",
      "500/500 [==============================] - 0s 438us/step - loss: 0.2886 - acc: 0.8840 - precision: 0.9106 - recall: 0.8580 - fmeasure: 0.8828 - val_loss: 0.4345 - val_acc: 0.8346 - val_precision: 0.8600 - val_recall: 0.8195 - val_fmeasure: 0.8382\n",
      "Epoch 4/70\n",
      "500/500 [==============================] - 0s 435us/step - loss: 0.5222 - acc: 0.8580 - precision: 0.8818 - recall: 0.8280 - fmeasure: 0.8530 - val_loss: 1.0509 - val_acc: 0.7744 - val_precision: 0.7893 - val_recall: 0.7669 - val_fmeasure: 0.7778\n",
      "Epoch 5/70\n",
      "500/500 [==============================] - 0s 440us/step - loss: 0.3520 - acc: 0.8580 - precision: 0.8848 - recall: 0.8280 - fmeasure: 0.8551 - val_loss: 0.6896 - val_acc: 0.8421 - val_precision: 0.8467 - val_recall: 0.8045 - val_fmeasure: 0.8241\n",
      "Epoch 6/70\n",
      "500/500 [==============================] - 0s 444us/step - loss: 0.3383 - acc: 0.9020 - precision: 0.9150 - recall: 0.8780 - fmeasure: 0.8955 - val_loss: 0.8824 - val_acc: 0.8045 - val_precision: 0.8095 - val_recall: 0.8045 - val_fmeasure: 0.8069\n",
      "Epoch 7/70\n",
      "500/500 [==============================] - 0s 439us/step - loss: 0.2689 - acc: 0.8900 - precision: 0.9158 - recall: 0.8740 - fmeasure: 0.8940 - val_loss: 0.4670 - val_acc: 0.8797 - val_precision: 0.8911 - val_recall: 0.8571 - val_fmeasure: 0.8736\n",
      "Epoch 8/70\n",
      "500/500 [==============================] - 0s 434us/step - loss: 0.3338 - acc: 0.8640 - precision: 0.8906 - recall: 0.8440 - fmeasure: 0.8663 - val_loss: 0.6670 - val_acc: 0.8496 - val_precision: 0.8869 - val_recall: 0.8195 - val_fmeasure: 0.8516\n",
      "Epoch 9/70\n",
      "500/500 [==============================] - 0s 436us/step - loss: 0.3105 - acc: 0.8940 - precision: 0.9208 - recall: 0.8680 - fmeasure: 0.8930 - val_loss: 0.5148 - val_acc: 0.8421 - val_precision: 0.8484 - val_recall: 0.8421 - val_fmeasure: 0.8451\n",
      "Epoch 10/70\n",
      "500/500 [==============================] - 0s 436us/step - loss: 0.4601 - acc: 0.8720 - precision: 0.8891 - recall: 0.8460 - fmeasure: 0.8666 - val_loss: 0.7330 - val_acc: 0.8571 - val_precision: 0.8822 - val_recall: 0.8421 - val_fmeasure: 0.8614\n",
      "Epoch 11/70\n",
      "500/500 [==============================] - 0s 438us/step - loss: 0.4994 - acc: 0.8520 - precision: 0.8591 - recall: 0.8320 - fmeasure: 0.8449 - val_loss: 0.7356 - val_acc: 0.8346 - val_precision: 0.8585 - val_recall: 0.8195 - val_fmeasure: 0.8383\n",
      "Epoch 12/70\n",
      "500/500 [==============================] - 0s 448us/step - loss: 0.4679 - acc: 0.8460 - precision: 0.8603 - recall: 0.8200 - fmeasure: 0.8393 - val_loss: 0.7797 - val_acc: 0.8120 - val_precision: 0.8466 - val_recall: 0.7820 - val_fmeasure: 0.8101\n",
      "Epoch 13/70\n",
      "500/500 [==============================] - 0s 440us/step - loss: 0.4144 - acc: 0.8800 - precision: 0.9028 - recall: 0.8560 - fmeasure: 0.8783 - val_loss: 1.0430 - val_acc: 0.7970 - val_precision: 0.8071 - val_recall: 0.7895 - val_fmeasure: 0.7980\n",
      "Epoch 14/70\n",
      "500/500 [==============================] - 0s 461us/step - loss: 0.5283 - acc: 0.8400 - precision: 0.8696 - recall: 0.8300 - fmeasure: 0.8489 - val_loss: 0.8016 - val_acc: 0.8195 - val_precision: 0.8235 - val_recall: 0.8045 - val_fmeasure: 0.8138\n",
      "Epoch 15/70\n",
      "500/500 [==============================] - 0s 470us/step - loss: 0.3043 - acc: 0.8940 - precision: 0.9143 - recall: 0.8600 - fmeasure: 0.8855 - val_loss: 1.1810 - val_acc: 0.7820 - val_precision: 0.7870 - val_recall: 0.7519 - val_fmeasure: 0.7687\n",
      "Epoch 16/70\n",
      "500/500 [==============================] - 0s 446us/step - loss: 0.4464 - acc: 0.8880 - precision: 0.9047 - recall: 0.8740 - fmeasure: 0.8887 - val_loss: 1.2891 - val_acc: 0.7669 - val_precision: 0.7847 - val_recall: 0.7669 - val_fmeasure: 0.7756\n",
      "Epoch 17/70\n",
      "500/500 [==============================] - 0s 469us/step - loss: 0.2734 - acc: 0.9100 - precision: 0.9269 - recall: 0.8940 - fmeasure: 0.9096 - val_loss: 0.8721 - val_acc: 0.8195 - val_precision: 0.8394 - val_recall: 0.7820 - val_fmeasure: 0.8084\n",
      "Epoch 18/70\n",
      "500/500 [==============================] - 0s 439us/step - loss: 0.4567 - acc: 0.8760 - precision: 0.8896 - recall: 0.8500 - fmeasure: 0.8689 - val_loss: 1.0575 - val_acc: 0.8195 - val_precision: 0.8303 - val_recall: 0.7970 - val_fmeasure: 0.8128\n",
      "Epoch 19/70\n",
      "500/500 [==============================] - 0s 434us/step - loss: 0.2721 - acc: 0.9060 - precision: 0.9155 - recall: 0.8920 - fmeasure: 0.9032 - val_loss: 0.8295 - val_acc: 0.8346 - val_precision: 0.8506 - val_recall: 0.8120 - val_fmeasure: 0.8306\n",
      "Epoch 20/70\n",
      "500/500 [==============================] - 0s 441us/step - loss: 0.3202 - acc: 0.9100 - precision: 0.9190 - recall: 0.8780 - fmeasure: 0.8975 - val_loss: 0.9398 - val_acc: 0.8346 - val_precision: 0.8595 - val_recall: 0.8271 - val_fmeasure: 0.8428\n",
      "Epoch 21/70\n",
      "500/500 [==============================] - 0s 469us/step - loss: 0.3537 - acc: 0.9120 - precision: 0.9215 - recall: 0.8920 - fmeasure: 0.9061 - val_loss: 0.6317 - val_acc: 0.8647 - val_precision: 0.8657 - val_recall: 0.8346 - val_fmeasure: 0.8494\n",
      "Epoch 22/70\n",
      "500/500 [==============================] - 0s 452us/step - loss: 0.3910 - acc: 0.8860 - precision: 0.8967 - recall: 0.8720 - fmeasure: 0.8840 - val_loss: 0.9426 - val_acc: 0.7594 - val_precision: 0.7960 - val_recall: 0.7594 - val_fmeasure: 0.7770\n",
      "Epoch 23/70\n",
      "500/500 [==============================] - 0s 442us/step - loss: 0.3028 - acc: 0.8960 - precision: 0.9144 - recall: 0.8760 - fmeasure: 0.8942 - val_loss: 0.9614 - val_acc: 0.8120 - val_precision: 0.8276 - val_recall: 0.7970 - val_fmeasure: 0.8117\n",
      "Epoch 24/70\n",
      "500/500 [==============================] - 0s 449us/step - loss: 0.2512 - acc: 0.9080 - precision: 0.9237 - recall: 0.8860 - fmeasure: 0.9042 - val_loss: 0.8909 - val_acc: 0.8195 - val_precision: 0.8299 - val_recall: 0.8045 - val_fmeasure: 0.8165\n",
      "Epoch 25/70\n",
      "500/500 [==============================] - 0s 479us/step - loss: 0.2214 - acc: 0.9360 - precision: 0.9420 - recall: 0.9160 - fmeasure: 0.9285 - val_loss: 0.8925 - val_acc: 0.8421 - val_precision: 0.8528 - val_recall: 0.8271 - val_fmeasure: 0.8393\n",
      "Epoch 26/70\n",
      "500/500 [==============================] - 0s 448us/step - loss: 0.2084 - acc: 0.9000 - precision: 0.9116 - recall: 0.8840 - fmeasure: 0.8971 - val_loss: 0.8945 - val_acc: 0.8271 - val_precision: 0.8360 - val_recall: 0.8045 - val_fmeasure: 0.8195\n",
      "Epoch 27/70\n",
      "500/500 [==============================] - 0s 443us/step - loss: 0.2668 - acc: 0.9080 - precision: 0.9389 - recall: 0.8900 - fmeasure: 0.9128 - val_loss: 0.9047 - val_acc: 0.8271 - val_precision: 0.8499 - val_recall: 0.8120 - val_fmeasure: 0.8302\n",
      "Epoch 28/70\n",
      "500/500 [==============================] - 0s 464us/step - loss: 0.2226 - acc: 0.9220 - precision: 0.9380 - recall: 0.9080 - fmeasure: 0.9224 - val_loss: 0.4639 - val_acc: 0.8571 - val_precision: 0.8748 - val_recall: 0.8421 - val_fmeasure: 0.8575\n",
      "Epoch 29/70\n",
      "500/500 [==============================] - 0s 446us/step - loss: 0.3067 - acc: 0.8840 - precision: 0.9000 - recall: 0.8700 - fmeasure: 0.8844 - val_loss: 0.5692 - val_acc: 0.8571 - val_precision: 0.8758 - val_recall: 0.8421 - val_fmeasure: 0.8579\n",
      "Epoch 30/70\n",
      "500/500 [==============================] - 0s 444us/step - loss: 0.2399 - acc: 0.9040 - precision: 0.9153 - recall: 0.8900 - fmeasure: 0.9021 - val_loss: 0.4691 - val_acc: 0.8496 - val_precision: 0.8665 - val_recall: 0.8346 - val_fmeasure: 0.8497\n",
      "Epoch 31/70\n",
      "500/500 [==============================] - 0s 472us/step - loss: 0.2681 - acc: 0.9260 - precision: 0.9393 - recall: 0.9060 - fmeasure: 0.9219 - val_loss: 0.4507 - val_acc: 0.8346 - val_precision: 0.8393 - val_recall: 0.8271 - val_fmeasure: 0.8330\n",
      "Epoch 32/70\n",
      "500/500 [==============================] - 0s 443us/step - loss: 0.2195 - acc: 0.9180 - precision: 0.9324 - recall: 0.9140 - fmeasure: 0.9229 - val_loss: 0.4135 - val_acc: 0.8571 - val_precision: 0.8612 - val_recall: 0.8496 - val_fmeasure: 0.8552\n",
      "Epoch 33/70\n",
      "500/500 [==============================] - 0s 426us/step - loss: 0.2133 - acc: 0.9260 - precision: 0.9309 - recall: 0.9180 - fmeasure: 0.9242 - val_loss: 0.4582 - val_acc: 0.8496 - val_precision: 0.8553 - val_recall: 0.8496 - val_fmeasure: 0.8523\n",
      "Epoch 34/70\n",
      "500/500 [==============================] - 0s 451us/step - loss: 0.1851 - acc: 0.9380 - precision: 0.9448 - recall: 0.9300 - fmeasure: 0.9372 - val_loss: 0.4405 - val_acc: 0.8496 - val_precision: 0.8606 - val_recall: 0.8496 - val_fmeasure: 0.8546\n",
      "Epoch 35/70\n",
      "500/500 [==============================] - 0s 470us/step - loss: 0.1879 - acc: 0.9340 - precision: 0.9450 - recall: 0.9280 - fmeasure: 0.9363 - val_loss: 0.4257 - val_acc: 0.8647 - val_precision: 0.8703 - val_recall: 0.8647 - val_fmeasure: 0.8674\n",
      "Epoch 36/70\n",
      "500/500 [==============================] - 0s 460us/step - loss: 0.1942 - acc: 0.9260 - precision: 0.9433 - recall: 0.9220 - fmeasure: 0.9323 - val_loss: 0.4017 - val_acc: 0.8647 - val_precision: 0.8730 - val_recall: 0.8421 - val_fmeasure: 0.8568\n",
      "Epoch 37/70\n",
      "500/500 [==============================] - 0s 456us/step - loss: 0.4123 - acc: 0.9100 - precision: 0.9167 - recall: 0.8980 - fmeasure: 0.9070 - val_loss: 0.7053 - val_acc: 0.8346 - val_precision: 0.8514 - val_recall: 0.8271 - val_fmeasure: 0.8389\n",
      "Epoch 38/70\n",
      "500/500 [==============================] - 0s 468us/step - loss: 0.3427 - acc: 0.9080 - precision: 0.9217 - recall: 0.8900 - fmeasure: 0.9052 - val_loss: 0.8899 - val_acc: 0.7895 - val_precision: 0.8105 - val_recall: 0.7820 - val_fmeasure: 0.7954\n",
      "Epoch 39/70\n",
      "500/500 [==============================] - 0s 468us/step - loss: 0.2376 - acc: 0.9100 - precision: 0.9173 - recall: 0.8940 - fmeasure: 0.9052 - val_loss: 0.6863 - val_acc: 0.8496 - val_precision: 0.8825 - val_recall: 0.8496 - val_fmeasure: 0.8653\n",
      "Epoch 40/70\n",
      "500/500 [==============================] - 0s 429us/step - loss: 0.2315 - acc: 0.9080 - precision: 0.9263 - recall: 0.8980 - fmeasure: 0.9113 - val_loss: 0.5501 - val_acc: 0.8421 - val_precision: 0.8679 - val_recall: 0.8421 - val_fmeasure: 0.8546\n",
      "Epoch 41/70\n",
      "500/500 [==============================] - 0s 442us/step - loss: 0.1668 - acc: 0.9280 - precision: 0.9367 - recall: 0.9180 - fmeasure: 0.9269 - val_loss: 0.5693 - val_acc: 0.8346 - val_precision: 0.8402 - val_recall: 0.8346 - val_fmeasure: 0.8373\n",
      "Epoch 42/70\n",
      "500/500 [==============================] - 0s 467us/step - loss: 0.2135 - acc: 0.9220 - precision: 0.9360 - recall: 0.9180 - fmeasure: 0.9266 - val_loss: 0.5845 - val_acc: 0.8346 - val_precision: 0.8455 - val_recall: 0.8346 - val_fmeasure: 0.8396\n",
      "Epoch 43/70\n",
      "500/500 [==============================] - 0s 434us/step - loss: 0.1679 - acc: 0.9280 - precision: 0.9349 - recall: 0.9220 - fmeasure: 0.9282 - val_loss: 0.5609 - val_acc: 0.8346 - val_precision: 0.8396 - val_recall: 0.8346 - val_fmeasure: 0.8370\n",
      "Epoch 44/70\n",
      "500/500 [==============================] - 0s 430us/step - loss: 0.1867 - acc: 0.9420 - precision: 0.9588 - recall: 0.9340 - fmeasure: 0.9460 - val_loss: 0.5346 - val_acc: 0.8571 - val_precision: 0.8769 - val_recall: 0.8571 - val_fmeasure: 0.8667\n",
      "Epoch 45/70\n",
      "500/500 [==============================] - 0s 434us/step - loss: 0.1973 - acc: 0.9300 - precision: 0.9353 - recall: 0.9260 - fmeasure: 0.9305 - val_loss: 0.5069 - val_acc: 0.8647 - val_precision: 0.8694 - val_recall: 0.8571 - val_fmeasure: 0.8628\n",
      "Epoch 46/70\n",
      "500/500 [==============================] - 0s 432us/step - loss: 0.2019 - acc: 0.9320 - precision: 0.9485 - recall: 0.9240 - fmeasure: 0.9359 - val_loss: 0.6091 - val_acc: 0.8271 - val_precision: 0.8380 - val_recall: 0.8271 - val_fmeasure: 0.8324\n",
      "Epoch 47/70\n",
      "500/500 [==============================] - 0s 466us/step - loss: 0.1460 - acc: 0.9320 - precision: 0.9386 - recall: 0.9240 - fmeasure: 0.9311 - val_loss: 0.5263 - val_acc: 0.8421 - val_precision: 0.8546 - val_recall: 0.8421 - val_fmeasure: 0.8482\n",
      "Epoch 48/70\n",
      "500/500 [==============================] - 0s 452us/step - loss: 0.1301 - acc: 0.9520 - precision: 0.9556 - recall: 0.9480 - fmeasure: 0.9517 - val_loss: 0.5879 - val_acc: 0.8346 - val_precision: 0.8459 - val_recall: 0.8271 - val_fmeasure: 0.8362\n",
      "Epoch 49/70\n",
      "500/500 [==============================] - 0s 459us/step - loss: 0.1916 - acc: 0.9480 - precision: 0.9515 - recall: 0.9440 - fmeasure: 0.9476 - val_loss: 0.5465 - val_acc: 0.8496 - val_precision: 0.8681 - val_recall: 0.8496 - val_fmeasure: 0.8583\n",
      "Epoch 50/70\n",
      "500/500 [==============================] - 0s 445us/step - loss: 0.1595 - acc: 0.9260 - precision: 0.9384 - recall: 0.9160 - fmeasure: 0.9269 - val_loss: 0.5193 - val_acc: 0.8496 - val_precision: 0.8628 - val_recall: 0.8496 - val_fmeasure: 0.8560\n",
      "Epoch 51/70\n",
      "500/500 [==============================] - 0s 455us/step - loss: 0.2304 - acc: 0.9540 - precision: 0.9554 - recall: 0.9400 - fmeasure: 0.9474 - val_loss: 0.8175 - val_acc: 0.8421 - val_precision: 0.8459 - val_recall: 0.8271 - val_fmeasure: 0.8362\n",
      "Epoch 52/70\n",
      "500/500 [==============================] - 0s 468us/step - loss: 0.7289 - acc: 0.8460 - precision: 0.8581 - recall: 0.8360 - fmeasure: 0.8467 - val_loss: 0.9604 - val_acc: 0.8271 - val_precision: 0.8318 - val_recall: 0.8120 - val_fmeasure: 0.8217\n",
      "Epoch 53/70\n",
      "500/500 [==============================] - 0s 450us/step - loss: 0.7698 - acc: 0.8520 - precision: 0.8651 - recall: 0.8360 - fmeasure: 0.8500 - val_loss: 1.8632 - val_acc: 0.7895 - val_precision: 0.7988 - val_recall: 0.7820 - val_fmeasure: 0.7899\n",
      "Epoch 54/70\n",
      "500/500 [==============================] - 0s 474us/step - loss: 0.7089 - acc: 0.8860 - precision: 0.9054 - recall: 0.8620 - fmeasure: 0.8827 - val_loss: 0.6174 - val_acc: 0.8872 - val_precision: 0.9010 - val_recall: 0.8872 - val_fmeasure: 0.8939\n",
      "Epoch 55/70\n",
      "500/500 [==============================] - 0s 470us/step - loss: 0.4759 - acc: 0.8840 - precision: 0.8993 - recall: 0.8780 - fmeasure: 0.8883 - val_loss: 0.7118 - val_acc: 0.8421 - val_precision: 0.8465 - val_recall: 0.8421 - val_fmeasure: 0.8442\n",
      "Epoch 56/70\n",
      "500/500 [==============================] - 0s 453us/step - loss: 0.4498 - acc: 0.9160 - precision: 0.9325 - recall: 0.9100 - fmeasure: 0.9209 - val_loss: 0.8711 - val_acc: 0.8722 - val_precision: 0.8777 - val_recall: 0.8647 - val_fmeasure: 0.8709\n",
      "Epoch 57/70\n",
      "500/500 [==============================] - 0s 468us/step - loss: 0.4255 - acc: 0.9180 - precision: 0.9225 - recall: 0.9100 - fmeasure: 0.9160 - val_loss: 0.8186 - val_acc: 0.8571 - val_precision: 0.8689 - val_recall: 0.8496 - val_fmeasure: 0.8590\n",
      "Epoch 58/70\n",
      "500/500 [==============================] - 0s 448us/step - loss: 0.4764 - acc: 0.8860 - precision: 0.8979 - recall: 0.8820 - fmeasure: 0.8896 - val_loss: 0.5306 - val_acc: 0.8496 - val_precision: 0.8548 - val_recall: 0.8346 - val_fmeasure: 0.8444\n",
      "Epoch 59/70\n",
      "500/500 [==============================] - 0s 470us/step - loss: 0.3152 - acc: 0.9260 - precision: 0.9391 - recall: 0.9200 - fmeasure: 0.9293 - val_loss: 0.6125 - val_acc: 0.8496 - val_precision: 0.8472 - val_recall: 0.8346 - val_fmeasure: 0.8408\n",
      "Epoch 60/70\n",
      "500/500 [==============================] - 0s 437us/step - loss: 0.2319 - acc: 0.9360 - precision: 0.9444 - recall: 0.9220 - fmeasure: 0.9329 - val_loss: 0.6240 - val_acc: 0.8722 - val_precision: 0.8710 - val_recall: 0.8571 - val_fmeasure: 0.8639\n",
      "Epoch 61/70\n",
      "500/500 [==============================] - 0s 513us/step - loss: 0.3297 - acc: 0.9400 - precision: 0.9450 - recall: 0.9320 - fmeasure: 0.9383 - val_loss: 0.4467 - val_acc: 0.8797 - val_precision: 0.8789 - val_recall: 0.8722 - val_fmeasure: 0.8755\n",
      "Epoch 62/70\n",
      "500/500 [==============================] - 0s 457us/step - loss: 0.1616 - acc: 0.9440 - precision: 0.9534 - recall: 0.9420 - fmeasure: 0.9475 - val_loss: 0.4463 - val_acc: 0.8647 - val_precision: 0.8647 - val_recall: 0.8647 - val_fmeasure: 0.8647\n",
      "Epoch 63/70\n",
      "500/500 [==============================] - 0s 455us/step - loss: 0.1694 - acc: 0.9420 - precision: 0.9456 - recall: 0.9360 - fmeasure: 0.9407 - val_loss: 0.3625 - val_acc: 0.9023 - val_precision: 0.9086 - val_recall: 0.9023 - val_fmeasure: 0.9053\n"
     ]
    },
    {
     "name": "stdout",
     "output_type": "stream",
     "text": [
      "Epoch 64/70\n",
      "500/500 [==============================] - 0s 442us/step - loss: 0.1959 - acc: 0.9460 - precision: 0.9514 - recall: 0.9460 - fmeasure: 0.9486 - val_loss: 0.4190 - val_acc: 0.8797 - val_precision: 0.8797 - val_recall: 0.8797 - val_fmeasure: 0.8797\n",
      "Epoch 65/70\n",
      "500/500 [==============================] - 0s 460us/step - loss: 0.1769 - acc: 0.9500 - precision: 0.9513 - recall: 0.9420 - fmeasure: 0.9465 - val_loss: 0.3769 - val_acc: 0.8872 - val_precision: 0.8872 - val_recall: 0.8872 - val_fmeasure: 0.8872\n",
      "Epoch 66/70\n",
      "500/500 [==============================] - 0s 444us/step - loss: 0.1607 - acc: 0.9540 - precision: 0.9577 - recall: 0.9480 - fmeasure: 0.9527 - val_loss: 0.3682 - val_acc: 0.8947 - val_precision: 0.8947 - val_recall: 0.8872 - val_fmeasure: 0.8909\n",
      "Epoch 67/70\n",
      "500/500 [==============================] - 0s 463us/step - loss: 0.1570 - acc: 0.9540 - precision: 0.9614 - recall: 0.9480 - fmeasure: 0.9545 - val_loss: 1.8865 - val_acc: 0.7444 - val_precision: 0.7479 - val_recall: 0.7368 - val_fmeasure: 0.7422\n",
      "Epoch 68/70\n",
      "500/500 [==============================] - 0s 450us/step - loss: 1.9076 - acc: 0.7580 - precision: 0.7776 - recall: 0.7440 - fmeasure: 0.7599 - val_loss: 1.1486 - val_acc: 0.7519 - val_precision: 0.7739 - val_recall: 0.7444 - val_fmeasure: 0.7586\n",
      "Epoch 69/70\n",
      "500/500 [==============================] - 0s 467us/step - loss: 0.6019 - acc: 0.8660 - precision: 0.8808 - recall: 0.8440 - fmeasure: 0.8616 - val_loss: 1.2097 - val_acc: 0.8195 - val_precision: 0.8226 - val_recall: 0.7970 - val_fmeasure: 0.8094\n",
      "Epoch 70/70\n",
      "500/500 [==============================] - 0s 456us/step - loss: 0.7936 - acc: 0.8520 - precision: 0.8688 - recall: 0.8300 - fmeasure: 0.8481 - val_loss: 1.0892 - val_acc: 0.8045 - val_precision: 0.8291 - val_recall: 0.8045 - val_fmeasure: 0.8165\n",
      "133/133 [==============================] - 0s 152us/step\n",
      "Test loss: 1.0891638218908382\n",
      "Test accuracy: 0.8045112790917992\n",
      "Test precision: 0.8297356062365654\n",
      "Test recall: 0.8045112790917992\n",
      "Test f1-score: 0.8169231974988952\n"
     ]
    }
   ],
   "source": [
    "model.compile(\n",
    "\toptimizer=\"Adam\",\n",
    "\tloss=\"categorical_crossentropy\",\n",
    "\tmetrics=['accuracy', precision, recall,fmeasure])\n",
    "\n",
    "model.fit(\n",
    "\tx=X_train, \n",
    "\ty=y_train,\n",
    "    epochs=70,\n",
    "    batch_size=20,\n",
    "    validation_data= (X_test, y_test))\n",
    "\n",
    "score = model.evaluate(\n",
    "\tx=X_test,\n",
    "\ty=y_test)\n",
    "\n",
    "print('Test loss:', score[0])\n",
    "print('Test accuracy:', score[1])\n",
    "print('Test precision:', score[2])\n",
    "print('Test recall:', score[3])\n",
    "print('Test f1-score:', score[4])\n"
   ]
  },
  {
   "cell_type": "code",
   "execution_count": 33,
   "metadata": {},
   "outputs": [
    {
     "data": {
      "text/plain": [
       "array([9, 1, 4, 1, 9, 6, 5, 4, 3, 4, 8, 3, 4, 9, 4, 4, 7, 9, 9, 1, 5, 0,\n",
       "       4, 9, 5, 1, 1, 5, 5, 3, 4, 8, 3, 4, 1, 7, 6, 9, 6, 7, 6, 3, 9, 3,\n",
       "       8, 7, 4, 9, 6, 8, 8, 9, 6, 1, 9, 3, 1, 3, 6, 3, 1, 3, 9, 8, 3, 7,\n",
       "       1, 6, 4, 1, 3, 3, 3, 3, 6, 4, 9, 4, 4, 7, 8, 3, 3, 4, 4, 1, 4, 7,\n",
       "       1, 4, 4, 9, 5, 1, 7, 4, 8, 8, 4, 1, 6, 9, 3, 6, 1, 1, 5, 0, 6, 3,\n",
       "       3, 9, 4, 9, 6, 3, 5, 9, 3, 1, 0, 7, 9, 6, 0, 7, 9, 4, 1, 1, 8, 5,\n",
       "       6])"
      ]
     },
     "execution_count": 33,
     "metadata": {},
     "output_type": "execute_result"
    }
   ],
   "source": [
    "predictions = model.predict_classes(X_test)\n",
    "predictions\n"
   ]
  },
  {
   "cell_type": "code",
   "execution_count": 34,
   "metadata": {},
   "outputs": [
    {
     "data": {
      "text/plain": [
       "array([9, 1, 4, 1, 9, 6, 4, 5, 3, 4, 8, 3, 5, 9, 4, 5, 7, 9, 9, 9, 7, 0,\n",
       "       4, 9, 4, 1, 1, 5, 5, 3, 0, 8, 3, 5, 0, 7, 6, 9, 6, 6, 6, 3, 9, 3,\n",
       "       3, 7, 4, 9, 6, 8, 8, 7, 6, 1, 9, 3, 1, 3, 6, 3, 1, 3, 9, 6, 3, 7,\n",
       "       1, 6, 4, 1, 3, 1, 3, 3, 6, 5, 9, 4, 4, 7, 6, 3, 3, 4, 4, 1, 4, 7,\n",
       "       0, 4, 4, 9, 4, 7, 7, 4, 8, 8, 4, 1, 6, 9, 3, 6, 1, 1, 5, 0, 6, 3,\n",
       "       3, 9, 4, 3, 6, 6, 5, 9, 3, 1, 6, 7, 9, 6, 0, 6, 9, 4, 1, 0, 8, 4,\n",
       "       6])"
      ]
     },
     "execution_count": 34,
     "metadata": {},
     "output_type": "execute_result"
    }
   ],
   "source": [
    "y_test_values=np.array(y_test_values)\n",
    "y_test_values\n"
   ]
  },
  {
   "cell_type": "code",
   "execution_count": 35,
   "metadata": {},
   "outputs": [
    {
     "data": {
      "text/plain": [
       "array([[ 3,  3,  0,  0,  1,  0,  0,  0,  0,  0],\n",
       "       [ 0, 15,  0,  1,  0,  0,  0,  0,  0,  0],\n",
       "       [ 0,  0,  0,  0,  0,  0,  0,  0,  0,  0],\n",
       "       [ 0,  0,  0, 20,  0,  0,  0,  0,  1,  1],\n",
       "       [ 0,  0,  0,  0, 17,  4,  0,  0,  0,  0],\n",
       "       [ 0,  0,  0,  0,  5,  4,  0,  0,  0,  0],\n",
       "       [ 1,  0,  0,  1,  0,  0, 15,  2,  2,  0],\n",
       "       [ 0,  1,  0,  0,  0,  1,  0,  8,  0,  1],\n",
       "       [ 0,  0,  0,  0,  0,  0,  0,  0,  7,  0],\n",
       "       [ 0,  1,  0,  0,  0,  0,  0,  0,  0, 18]])"
      ]
     },
     "execution_count": 35,
     "metadata": {},
     "output_type": "execute_result"
    }
   ],
   "source": [
    " from sklearn.metrics import confusion_matrix\n",
    "conf_mat=confusion_matrix(y_test_values, predictions, labels=[0,1,2,3,4,5,6,7,8,9])\n",
    "conf_mat"
   ]
  },
  {
   "cell_type": "markdown",
   "metadata": {},
   "source": [
    "## Data Augmentation\n",
    "\n",
    "### 1. Vary Time"
   ]
  },
  {
   "cell_type": "code",
   "execution_count": 60,
   "metadata": {},
   "outputs": [],
   "source": [
    "rate = 1.07 # replace with 0.81 and execute again\n",
    "\n",
    "for row in valid_data.itertuples():\n",
    "    y, sr = librosa.load('datasets/dataset/audio/Guitar_Only/' + row.path)  \n",
    "    y_changed = librosa.effects.time_stretch(y, rate=rate)\n",
    "    librosa.output.write_wav('datasets/dataset/augmented/' + str(row.classname) + '/speed_' + str(int(rate*100)) + '/' + row.file_name,y_changed, sr)"
   ]
  },
  {
   "cell_type": "code",
   "execution_count": 61,
   "metadata": {},
   "outputs": [],
   "source": [
    "rate = 0.81\n",
    "\n",
    "for row in valid_data.itertuples():\n",
    "    y, sr = librosa.load('datasets/dataset/audio/Guitar_Only/' + row.path)  \n",
    "    y_changed = librosa.effects.time_stretch(y, rate=rate)\n",
    "    librosa.output.write_wav('datasets/dataset/augmented/' + str(row.classname) + '/speed_' + str(int(rate*100)) + '/' + row.file_name ,y_changed, sr)"
   ]
  },
  {
   "cell_type": "markdown",
   "metadata": {},
   "source": [
    "### 2. Vary pitch"
   ]
  },
  {
   "cell_type": "code",
   "execution_count": 62,
   "metadata": {},
   "outputs": [],
   "source": [
    "n_steps = 2 #-1, -2, 2, 1\n",
    "\n",
    "for row in valid_data.itertuples():\n",
    "    y, sr = librosa.load('datasets/dataset/audio/Guitar_Only/' + row.path)  \n",
    "    y_changed = librosa.effects.pitch_shift(y, sr, n_steps=n_steps)\n",
    "    librosa.output.write_wav('datasets/dataset/augmented/' + str(row.classname) + '/ps1_' + str(int(n_steps)) + '/' + row.file_name ,y_changed, sr)"
   ]
  },
  {
   "cell_type": "markdown",
   "metadata": {},
   "source": [
    "### 3. Change Pitch (PS2)"
   ]
  },
  {
   "cell_type": "code",
   "execution_count": 63,
   "metadata": {},
   "outputs": [],
   "source": [
    "n_steps = 2.5 #-2.5, -3.5, 2.5, 3.5\n",
    "\n",
    "for row in valid_data.itertuples():\n",
    "    y, sr = librosa.load('datasets/dataset/audio/Guitar_Only/' + row.path)   \n",
    "    y_changed = librosa.effects.pitch_shift(y, sr, n_steps=n_steps)\n",
    "    librosa.output.write_wav('datasets/dataset/augmented/' + str(row.classname) + '/ps2_m' + str(int(n_steps*10)) + '/' + row.file_name ,y_changed, sr)"
   ]
  },
  {
   "cell_type": "code",
   "execution_count": 64,
   "metadata": {},
   "outputs": [
    {
     "data": {
      "text/plain": [
       "(128, 87)"
      ]
     },
     "execution_count": 64,
     "metadata": {},
     "output_type": "execute_result"
    }
   ],
   "source": [
    "# Example of a Siren spectrogram\n",
    "y, sr = librosa.load('datasets/dataset/augmented/am/ps2_m25/am25.wav',duration=2)\n",
    "ps = librosa.feature.melspectrogram(y=y, sr=sr)\n",
    "ps.shape\n"
   ]
  },
  {
   "cell_type": "code",
   "execution_count": 65,
   "metadata": {},
   "outputs": [
    {
     "data": {
      "text/plain": [
       "<matplotlib.axes._subplots.AxesSubplot at 0x7f452c0924a8>"
      ]
     },
     "execution_count": 65,
     "metadata": {},
     "output_type": "execute_result"
    },
    {
     "data": {
      "image/png": "[encoded data removed]",
      "text/plain": [
       "<Figure size 432x288 with 1 Axes>"
      ]
     },
     "metadata": {
      "needs_background": "light"
     },
     "output_type": "display_data"
    }
   ],
   "source": [
    "librosa.display.specshow(ps, y_axis='mel', x_axis='time')"
   ]
  },
  {
   "cell_type": "code",
   "execution_count": 76,
   "metadata": {},
   "outputs": [
    {
     "data": {
      "text/plain": [
       "(128, 87)"
      ]
     },
     "execution_count": 76,
     "metadata": {},
     "output_type": "execute_result"
    }
   ],
   "source": [
    "# Example of a Siren spectrogram\n",
    "y, sr = librosa.load('datasets/dataset/augmented/em/ps1_2/em50.wav',duration=2)\n",
    "ps = librosa.feature.melspectrogram(y=y, sr=sr)\n",
    "ps.shape\n"
   ]
  },
  {
   "cell_type": "code",
   "execution_count": 77,
   "metadata": {},
   "outputs": [
    {
     "data": {
      "text/plain": [
       "<matplotlib.axes._subplots.AxesSubplot at 0x7f452cb54630>"
      ]
     },
     "execution_count": 77,
     "metadata": {},
     "output_type": "execute_result"
    },
    {
     "data": {
      "image/png": "[encoded data removed]",
      "text/plain": [
       "<Figure size 432x288 with 1 Axes>"
      ]
     },
     "metadata": {
      "needs_background": "light"
     },
     "output_type": "display_data"
    }
   ],
   "source": [
    "librosa.display.specshow(ps, y_axis='mel', x_axis='time')"
   ]
  },
  {
   "cell_type": "code",
   "execution_count": 78,
   "metadata": {},
   "outputs": [
    {
     "data": {
      "text/plain": [
       "(128, 76)"
      ]
     },
     "execution_count": 78,
     "metadata": {},
     "output_type": "execute_result"
    }
   ],
   "source": [
    "# Example of a Siren spectrogram\n",
    "y, sr = librosa.load('datasets/dataset/augmented/d/speed_81/d200.wav',duration=2)\n",
    "ps = librosa.feature.melspectrogram(y=y, sr=sr)\n",
    "ps.shape\n"
   ]
  },
  {
   "cell_type": "code",
   "execution_count": 79,
   "metadata": {},
   "outputs": [
    {
     "data": {
      "text/plain": [
       "<matplotlib.axes._subplots.AxesSubplot at 0x7f452cb2b710>"
      ]
     },
     "execution_count": 79,
     "metadata": {},
     "output_type": "execute_result"
    },
    {
     "data": {
      "image/png": "[encoded data removed]",
      "text/plain": [
       "<Figure size 432x288 with 1 Axes>"
      ]
     },
     "metadata": {
      "needs_background": "light"
     },
     "output_type": "display_data"
    }
   ],
   "source": [
    "librosa.display.specshow(ps, y_axis='mel', x_axis='time')"
   ]
  },
  {
   "cell_type": "code",
   "execution_count": 80,
   "metadata": {},
   "outputs": [
    {
     "data": {
      "text/plain": [
       "(128, 72)"
      ]
     },
     "execution_count": 80,
     "metadata": {},
     "output_type": "execute_result"
    }
   ],
   "source": [
    "# Example of a Siren spectrogram\n",
    "y, sr = librosa.load('datasets/dataset/augmented/g/speed_107/g75.wav',duration=2)\n",
    "ps = librosa.feature.melspectrogram(y=y, sr=sr)\n",
    "ps.shape\n"
   ]
  },
  {
   "cell_type": "code",
   "execution_count": 81,
   "metadata": {},
   "outputs": [
    {
     "data": {
      "text/plain": [
       "<matplotlib.axes._subplots.AxesSubplot at 0x7f452caa24e0>"
      ]
     },
     "execution_count": 81,
     "metadata": {},
     "output_type": "execute_result"
    },
    {
     "data": {
      "image/png": "[encoded data removed]",
      "text/plain": [
       "<Figure size 432x288 with 1 Axes>"
      ]
     },
     "metadata": {
      "needs_background": "light"
     },
     "output_type": "display_data"
    }
   ],
   "source": [
    "librosa.display.specshow(ps, y_axis='mel', x_axis='time')"
   ]
  },
  {
   "cell_type": "code",
   "execution_count": 27,
   "metadata": {},
   "outputs": [
    {
     "data": {
      "text/plain": [
       "633"
      ]
     },
     "execution_count": 27,
     "metadata": {},
     "output_type": "execute_result"
    }
   ],
   "source": [
    "len(D)"
   ]
  },
  {
   "cell_type": "code",
   "execution_count": 28,
   "metadata": {},
   "outputs": [],
   "source": [
    "rate = 1.07 # replace with 0.81 and execute again\n",
    "\n",
    "for row in valid_data.itertuples():\n",
    "    y, sr = librosa.load('datasets/dataset/augmented/' + str(row.classname) + '/speed_' + str(int(rate*100)) + '/' + row.file_name,duration=2)  \n",
    "    ps = librosa.feature.melspectrogram(y=y, sr=sr)\n",
    "    if ps.shape != (128, 87): continue\n",
    "    D.append( (ps, row.classID) )\n",
    " "
   ]
  },
  {
   "cell_type": "code",
   "execution_count": 29,
   "metadata": {},
   "outputs": [
    {
     "data": {
      "text/plain": [
       "981"
      ]
     },
     "execution_count": 29,
     "metadata": {},
     "output_type": "execute_result"
    }
   ],
   "source": [
    "len(D)"
   ]
  },
  {
   "cell_type": "code",
   "execution_count": 30,
   "metadata": {},
   "outputs": [],
   "source": [
    "rate = 0.81 # replace with 0.81 and execute again\n",
    "\n",
    "for row in valid_data.itertuples():\n",
    "    y, sr = librosa.load('datasets/dataset/augmented/' + str(row.classname) + '/speed_' + str(int(rate*100)) + '/' + row.file_name,duration=2)  \n",
    "    ps = librosa.feature.melspectrogram(y=y, sr=sr)\n",
    "    if ps.shape != (128, 87): continue\n",
    "    D.append( (ps, row.classID) )\n",
    " "
   ]
  },
  {
   "cell_type": "code",
   "execution_count": 31,
   "metadata": {},
   "outputs": [
    {
     "data": {
      "text/plain": [
       "2594"
      ]
     },
     "execution_count": 31,
     "metadata": {},
     "output_type": "execute_result"
    }
   ],
   "source": [
    "len(D)"
   ]
  },
  {
   "cell_type": "code",
   "execution_count": 32,
   "metadata": {},
   "outputs": [],
   "source": [
    "n_steps = 2 #-1, -2, 2, 1\n",
    "\n",
    "for row in valid_data.itertuples():\n",
    "    y, sr = librosa.load('datasets/dataset/augmented/' + str(row.classname) + '/ps1_' + str(int(n_steps)) + '/' + row.file_name,duration=2)\n",
    "    ps = librosa.feature.melspectrogram(y=y, sr=sr)\n",
    "    if ps.shape != (128, 87): continue\n",
    "    D.append( (ps, row.classID) )"
   ]
  },
  {
   "cell_type": "code",
   "execution_count": 33,
   "metadata": {},
   "outputs": [
    {
     "data": {
      "text/plain": [
       "3227"
      ]
     },
     "execution_count": 33,
     "metadata": {},
     "output_type": "execute_result"
    }
   ],
   "source": [
    "len(D)"
   ]
  },
  {
   "cell_type": "code",
   "execution_count": 34,
   "metadata": {},
   "outputs": [],
   "source": [
    "n_steps = 2.5 #-1, -2, 2, 1\n",
    "\n",
    "for row in valid_data.itertuples():\n",
    "    y, sr = librosa.load('datasets/dataset/augmented/' + str(row.classname) + '/ps2_m' + str(int(n_steps*10)) + '/' + row.file_name,duration=2)\n",
    "    ps = librosa.feature.melspectrogram(y=y, sr=sr)\n",
    "    if ps.shape != (128, 87): continue\n",
    "    D.append( (ps, row.classID) )\n"
   ]
  },
  {
   "cell_type": "code",
   "execution_count": 35,
   "metadata": {},
   "outputs": [
    {
     "data": {
      "text/plain": [
       "3860"
      ]
     },
     "execution_count": 35,
     "metadata": {},
     "output_type": "execute_result"
    }
   ],
   "source": [
    "len(D)"
   ]
  },
  {
   "cell_type": "markdown",
   "metadata": {},
   "source": [
    "The dataset consists of:\n",
    "- 1-633 normal samples.\n",
    "- 634-981 samples speed up by 1.07.\n",
    "- 982-2594 samples Slowed down to 0.81.\n",
    "- 2595-3227 samples Pitch modulated 2 semitones higher.\n",
    "- 3228-3860 samples Pitch modulated 2.5 semitones higher.\n",
    "\n",
    "\n",
    "\n"
   ]
  },
  {
   "cell_type": "code",
   "execution_count": 36,
   "metadata": {},
   "outputs": [],
   "source": [
    "dataset = D\n",
    "random.shuffle(dataset)\n",
    "\n",
    "train = dataset[:3000]\n",
    "test = dataset[3000:]\n",
    "\n",
    "X_train, y_train = zip(*train)\n",
    "X_test, y_test = zip(*test)\n",
    "\n",
    "X_train = np.array([x.reshape( (128, 87, 1) ) for x in X_train])\n",
    "X_test = np.array([x.reshape( (128, 87, 1) ) for x in X_test])\n",
    "\n",
    "y_train = np.array(keras.utils.to_categorical(y_train, 10))\n",
    "y_test_values=y_test\n",
    "y_test = np.array(keras.utils.to_categorical(y_test, 10))"
   ]
  },
  {
   "cell_type": "code",
   "execution_count": 37,
   "metadata": {},
   "outputs": [],
   "source": [
    "model = Sequential()\n",
    "input_shape=(128, 87, 1)\n",
    "\n",
    "model.add(Conv2D(24, (5, 5), strides=(1, 1), input_shape=input_shape))\n",
    "model.add(MaxPooling2D((4, 2), strides=(4, 2)))\n",
    "model.add(Activation('relu'))\n",
    "\n",
    "model.add(Conv2D(48, (5, 5), padding=\"valid\"))\n",
    "model.add(MaxPooling2D((4, 2), strides=(4, 2)))\n",
    "model.add(Activation('relu'))\n",
    "\n",
    "model.add(Conv2D(48, (5, 5), padding=\"valid\"))\n",
    "model.add(Activation('relu'))\n",
    "\n",
    "model.add(Flatten())\n",
    "model.add(Dropout(rate=0.5))\n",
    "\n",
    "model.add(Dense(64))\n",
    "model.add(Activation('relu'))\n",
    "model.add(Dropout(rate=0.5))\n",
    "\n",
    "model.add(Dense(10))\n",
    "model.add(Activation('softmax'))"
   ]
  },
  {
   "cell_type": "code",
   "execution_count": 38,
   "metadata": {},
   "outputs": [
    {
     "name": "stdout",
     "output_type": "stream",
     "text": [
      "Train on 3000 samples, validate on 860 samples\n",
      "Epoch 1/70\n",
      "3000/3000 [==============================] - 3s 1ms/step - loss: 2.2070 - acc: 0.1570 - precision: 0.2436 - recall: 0.0213 - fmeasure: 0.0385 - val_loss: 2.0793 - val_acc: 0.2058 - val_precision: 0.3023 - val_recall: 0.0186 - val_fmeasure: 0.0348\n",
      "Epoch 2/70\n",
      "3000/3000 [==============================] - 1s 430us/step - loss: 2.0558 - acc: 0.2223 - precision: 0.4404 - recall: 0.0497 - fmeasure: 0.0869 - val_loss: 1.9650 - val_acc: 0.2674 - val_precision: 0.5961 - val_recall: 0.0791 - val_fmeasure: 0.1357\n",
      "Epoch 3/70\n",
      "3000/3000 [==============================] - 1s 432us/step - loss: 1.9502 - acc: 0.2777 - precision: 0.6695 - recall: 0.1057 - fmeasure: 0.1783 - val_loss: 1.8556 - val_acc: 0.3267 - val_precision: 0.8244 - val_recall: 0.1279 - val_fmeasure: 0.2158\n",
      "Epoch 4/70\n",
      "3000/3000 [==============================] - 1s 433us/step - loss: 1.8717 - acc: 0.3047 - precision: 0.7493 - recall: 0.1490 - fmeasure: 0.2428 - val_loss: 1.8287 - val_acc: 0.3012 - val_precision: 0.7508 - val_recall: 0.1488 - val_fmeasure: 0.2395\n",
      "Epoch 5/70\n",
      "3000/3000 [==============================] - 1s 437us/step - loss: 1.7815 - acc: 0.3453 - precision: 0.8156 - recall: 0.1950 - fmeasure: 0.3080 - val_loss: 1.7166 - val_acc: 0.3419 - val_precision: 0.8525 - val_recall: 0.2267 - val_fmeasure: 0.3509\n",
      "Epoch 6/70\n",
      "3000/3000 [==============================] - 1s 427us/step - loss: 1.7163 - acc: 0.3923 - precision: 0.8584 - recall: 0.2330 - fmeasure: 0.3579 - val_loss: 1.7164 - val_acc: 0.3512 - val_precision: 0.8711 - val_recall: 0.2384 - val_fmeasure: 0.3624\n",
      "Epoch 7/70\n",
      "3000/3000 [==============================] - 1s 426us/step - loss: 1.6564 - acc: 0.4177 - precision: 0.8854 - recall: 0.2617 - fmeasure: 0.3950 - val_loss: 1.6706 - val_acc: 0.3698 - val_precision: 0.8167 - val_recall: 0.2523 - val_fmeasure: 0.3768\n",
      "Epoch 8/70\n",
      "3000/3000 [==============================] - 1s 442us/step - loss: 1.5988 - acc: 0.4527 - precision: 0.8736 - recall: 0.2773 - fmeasure: 0.4130 - val_loss: 1.5305 - val_acc: 0.4767 - val_precision: 0.8635 - val_recall: 0.2837 - val_fmeasure: 0.4176\n",
      "Epoch 9/70\n",
      "3000/3000 [==============================] - 1s 440us/step - loss: 1.4974 - acc: 0.4943 - precision: 0.8899 - recall: 0.3053 - fmeasure: 0.4472 - val_loss: 1.4282 - val_acc: 0.5093 - val_precision: 0.8977 - val_recall: 0.3081 - val_fmeasure: 0.4490\n",
      "Epoch 10/70\n",
      "3000/3000 [==============================] - 1s 436us/step - loss: 1.4410 - acc: 0.5040 - precision: 0.8892 - recall: 0.3243 - fmeasure: 0.4660 - val_loss: 1.4364 - val_acc: 0.5302 - val_precision: 0.8439 - val_recall: 0.3023 - val_fmeasure: 0.4367\n",
      "Epoch 11/70\n",
      "3000/3000 [==============================] - 1s 435us/step - loss: 1.3238 - acc: 0.5393 - precision: 0.8946 - recall: 0.3373 - fmeasure: 0.4815 - val_loss: 1.3310 - val_acc: 0.5721 - val_precision: 0.8763 - val_recall: 0.3233 - val_fmeasure: 0.4625\n",
      "Epoch 12/70\n",
      "3000/3000 [==============================] - 1s 439us/step - loss: 1.2819 - acc: 0.5593 - precision: 0.8647 - recall: 0.3523 - fmeasure: 0.4936 - val_loss: 1.2779 - val_acc: 0.5570 - val_precision: 0.8308 - val_recall: 0.3233 - val_fmeasure: 0.4565\n",
      "Epoch 13/70\n",
      "3000/3000 [==============================] - 1s 442us/step - loss: 1.1916 - acc: 0.5820 - precision: 0.8622 - recall: 0.3807 - fmeasure: 0.5188 - val_loss: 1.1534 - val_acc: 0.6163 - val_precision: 0.8684 - val_recall: 0.3674 - val_fmeasure: 0.5087\n",
      "Epoch 14/70\n",
      "3000/3000 [==============================] - 1s 433us/step - loss: 1.1670 - acc: 0.5917 - precision: 0.8696 - recall: 0.3947 - fmeasure: 0.5352 - val_loss: 1.1548 - val_acc: 0.6384 - val_precision: 0.9047 - val_recall: 0.3663 - val_fmeasure: 0.5127\n",
      "Epoch 15/70\n",
      "3000/3000 [==============================] - 1s 432us/step - loss: 1.0897 - acc: 0.6130 - precision: 0.8667 - recall: 0.4287 - fmeasure: 0.5669 - val_loss: 0.9609 - val_acc: 0.6698 - val_precision: 0.9029 - val_recall: 0.4267 - val_fmeasure: 0.5711\n",
      "Epoch 16/70\n",
      "3000/3000 [==============================] - 1s 435us/step - loss: 0.9628 - acc: 0.6430 - precision: 0.8734 - recall: 0.4840 - fmeasure: 0.6168 - val_loss: 0.9183 - val_acc: 0.6651 - val_precision: 0.8885 - val_recall: 0.4488 - val_fmeasure: 0.5871\n",
      "Epoch 17/70\n",
      "3000/3000 [==============================] - 1s 430us/step - loss: 0.9578 - acc: 0.6667 - precision: 0.8631 - recall: 0.4947 - fmeasure: 0.6243 - val_loss: 1.0467 - val_acc: 0.6488 - val_precision: 0.8441 - val_recall: 0.4523 - val_fmeasure: 0.5815\n",
      "Epoch 18/70\n",
      "3000/3000 [==============================] - 1s 437us/step - loss: 0.9191 - acc: 0.6637 - precision: 0.8409 - recall: 0.5030 - fmeasure: 0.6226 - val_loss: 1.0174 - val_acc: 0.6849 - val_precision: 0.8518 - val_recall: 0.4849 - val_fmeasure: 0.6114\n",
      "Epoch 19/70\n",
      "3000/3000 [==============================] - 1s 439us/step - loss: 0.8995 - acc: 0.6760 - precision: 0.8406 - recall: 0.5337 - fmeasure: 0.6472 - val_loss: 0.9714 - val_acc: 0.6837 - val_precision: 0.8645 - val_recall: 0.4919 - val_fmeasure: 0.6205\n",
      "Epoch 20/70\n",
      "3000/3000 [==============================] - 1s 427us/step - loss: 0.8988 - acc: 0.6860 - precision: 0.8500 - recall: 0.5280 - fmeasure: 0.6461 - val_loss: 0.7712 - val_acc: 0.7233 - val_precision: 0.8574 - val_recall: 0.5674 - val_fmeasure: 0.6783\n",
      "Epoch 21/70\n",
      "3000/3000 [==============================] - 1s 442us/step - loss: 0.9966 - acc: 0.6743 - precision: 0.8196 - recall: 0.5337 - fmeasure: 0.6419 - val_loss: 0.8536 - val_acc: 0.6953 - val_precision: 0.8441 - val_recall: 0.5651 - val_fmeasure: 0.6723\n",
      "Epoch 22/70\n",
      "3000/3000 [==============================] - 1s 430us/step - loss: 0.7859 - acc: 0.7140 - precision: 0.8428 - recall: 0.5733 - fmeasure: 0.6780 - val_loss: 0.7957 - val_acc: 0.7314 - val_precision: 0.8518 - val_recall: 0.5663 - val_fmeasure: 0.6763\n",
      "Epoch 23/70\n",
      "3000/3000 [==============================] - 1s 430us/step - loss: 0.7303 - acc: 0.7183 - precision: 0.8539 - recall: 0.6017 - fmeasure: 0.7026 - val_loss: 0.8474 - val_acc: 0.7256 - val_precision: 0.8086 - val_recall: 0.5919 - val_fmeasure: 0.6806\n",
      "Epoch 24/70\n",
      "3000/3000 [==============================] - 1s 433us/step - loss: 0.7925 - acc: 0.7077 - precision: 0.8426 - recall: 0.5963 - fmeasure: 0.6948 - val_loss: 0.7539 - val_acc: 0.7256 - val_precision: 0.8148 - val_recall: 0.6360 - val_fmeasure: 0.7128\n",
      "Epoch 25/70\n",
      "3000/3000 [==============================] - 1s 434us/step - loss: 0.7259 - acc: 0.7377 - precision: 0.8407 - recall: 0.6313 - fmeasure: 0.7182 - val_loss: 0.6916 - val_acc: 0.7674 - val_precision: 0.8578 - val_recall: 0.6558 - val_fmeasure: 0.7411\n",
      "Epoch 26/70\n",
      "3000/3000 [==============================] - 1s 424us/step - loss: 0.6559 - acc: 0.7540 - precision: 0.8585 - recall: 0.6480 - fmeasure: 0.7352 - val_loss: 0.6394 - val_acc: 0.7826 - val_precision: 0.8554 - val_recall: 0.6779 - val_fmeasure: 0.7539\n",
      "Epoch 27/70\n",
      "3000/3000 [==============================] - 1s 438us/step - loss: 0.6474 - acc: 0.7707 - precision: 0.8590 - recall: 0.6733 - fmeasure: 0.7521 - val_loss: 0.7846 - val_acc: 0.7779 - val_precision: 0.8537 - val_recall: 0.6872 - val_fmeasure: 0.7590\n",
      "Epoch 28/70\n",
      "3000/3000 [==============================] - 1s 436us/step - loss: 0.6375 - acc: 0.7710 - precision: 0.8523 - recall: 0.6720 - fmeasure: 0.7488 - val_loss: 0.6741 - val_acc: 0.7837 - val_precision: 0.8567 - val_recall: 0.6884 - val_fmeasure: 0.7614\n",
      "Epoch 29/70\n",
      "3000/3000 [==============================] - 1s 451us/step - loss: 0.6634 - acc: 0.7490 - precision: 0.8395 - recall: 0.6700 - fmeasure: 0.7426 - val_loss: 0.6255 - val_acc: 0.7674 - val_precision: 0.8344 - val_recall: 0.6884 - val_fmeasure: 0.7529\n",
      "Epoch 30/70\n",
      "3000/3000 [==============================] - 1s 456us/step - loss: 0.6059 - acc: 0.7783 - precision: 0.8599 - recall: 0.6933 - fmeasure: 0.7655 - val_loss: 0.5825 - val_acc: 0.8070 - val_precision: 0.8689 - val_recall: 0.7291 - val_fmeasure: 0.7908\n",
      "Epoch 31/70\n",
      "3000/3000 [==============================] - 1s 454us/step - loss: 0.5234 - acc: 0.8003 - precision: 0.8651 - recall: 0.7300 - fmeasure: 0.7898 - val_loss: 0.5993 - val_acc: 0.8093 - val_precision: 0.8637 - val_recall: 0.7616 - val_fmeasure: 0.8083\n",
      "Epoch 32/70\n",
      "3000/3000 [==============================] - 1s 429us/step - loss: 0.5172 - acc: 0.8113 - precision: 0.8688 - recall: 0.7480 - fmeasure: 0.8020 - val_loss: 0.6180 - val_acc: 0.8116 - val_precision: 0.8528 - val_recall: 0.7640 - val_fmeasure: 0.8049\n",
      "Epoch 33/70\n",
      "3000/3000 [==============================] - 1s 433us/step - loss: 0.4776 - acc: 0.8230 - precision: 0.8809 - recall: 0.7660 - fmeasure: 0.8180 - val_loss: 0.5795 - val_acc: 0.8500 - val_precision: 0.8871 - val_recall: 0.7942 - val_fmeasure: 0.8368\n",
      "Epoch 34/70\n",
      "3000/3000 [==============================] - 1s 470us/step - loss: 0.4575 - acc: 0.8313 - precision: 0.8806 - recall: 0.7840 - fmeasure: 0.8283 - val_loss: 0.5986 - val_acc: 0.8174 - val_precision: 0.8604 - val_recall: 0.7593 - val_fmeasure: 0.8054\n",
      "Epoch 35/70\n",
      "3000/3000 [==============================] - 1s 446us/step - loss: 0.4447 - acc: 0.8410 - precision: 0.8858 - recall: 0.7850 - fmeasure: 0.8310 - val_loss: 0.5777 - val_acc: 0.8244 - val_precision: 0.8779 - val_recall: 0.7814 - val_fmeasure: 0.8254\n",
      "Epoch 36/70\n",
      "3000/3000 [==============================] - 1s 453us/step - loss: 0.4414 - acc: 0.8437 - precision: 0.8889 - recall: 0.7950 - fmeasure: 0.8379 - val_loss: 0.5842 - val_acc: 0.8488 - val_precision: 0.8792 - val_recall: 0.8198 - val_fmeasure: 0.8479\n",
      "Epoch 37/70\n",
      "3000/3000 [==============================] - 1s 443us/step - loss: 0.4951 - acc: 0.8297 - precision: 0.8755 - recall: 0.7810 - fmeasure: 0.8243 - val_loss: 0.5539 - val_acc: 0.8453 - val_precision: 0.8866 - val_recall: 0.7837 - val_fmeasure: 0.8308\n",
      "Epoch 38/70\n",
      "3000/3000 [==============================] - 1s 456us/step - loss: 0.4617 - acc: 0.8410 - precision: 0.8848 - recall: 0.7970 - fmeasure: 0.8373 - val_loss: 0.5698 - val_acc: 0.8477 - val_precision: 0.8790 - val_recall: 0.8186 - val_fmeasure: 0.8471\n",
      "Epoch 39/70\n",
      "3000/3000 [==============================] - 1s 447us/step - loss: 0.6251 - acc: 0.8223 - precision: 0.8722 - recall: 0.7637 - fmeasure: 0.8129 - val_loss: 0.5788 - val_acc: 0.8395 - val_precision: 0.8815 - val_recall: 0.7860 - val_fmeasure: 0.8299\n",
      "Epoch 40/70\n",
      "3000/3000 [==============================] - 1s 444us/step - loss: 0.5070 - acc: 0.8337 - precision: 0.8789 - recall: 0.7777 - fmeasure: 0.8237 - val_loss: 0.5814 - val_acc: 0.8291 - val_precision: 0.8508 - val_recall: 0.7930 - val_fmeasure: 0.8200\n",
      "Epoch 41/70\n",
      "3000/3000 [==============================] - 1s 434us/step - loss: 0.4700 - acc: 0.8450 - precision: 0.8905 - recall: 0.7993 - fmeasure: 0.8413 - val_loss: 0.5174 - val_acc: 0.8407 - val_precision: 0.8650 - val_recall: 0.8198 - val_fmeasure: 0.8412\n",
      "Epoch 42/70\n",
      "3000/3000 [==============================] - 1s 441us/step - loss: 0.4516 - acc: 0.8507 - precision: 0.8993 - recall: 0.8147 - fmeasure: 0.8538 - val_loss: 0.5407 - val_acc: 0.8221 - val_precision: 0.8670 - val_recall: 0.7884 - val_fmeasure: 0.8251\n",
      "Epoch 43/70\n",
      "3000/3000 [==============================] - 1s 444us/step - loss: 0.4703 - acc: 0.8483 - precision: 0.8855 - recall: 0.8077 - fmeasure: 0.8436 - val_loss: 0.5746 - val_acc: 0.8512 - val_precision: 0.8739 - val_recall: 0.8151 - val_fmeasure: 0.8429\n",
      "Epoch 44/70\n",
      "3000/3000 [==============================] - 1s 444us/step - loss: 0.4019 - acc: 0.8640 - precision: 0.9047 - recall: 0.8300 - fmeasure: 0.8646 - val_loss: 0.7350 - val_acc: 0.7802 - val_precision: 0.8166 - val_recall: 0.7384 - val_fmeasure: 0.7747\n",
      "Epoch 45/70\n",
      "3000/3000 [==============================] - 1s 436us/step - loss: 0.4569 - acc: 0.8457 - precision: 0.8850 - recall: 0.8043 - fmeasure: 0.8415 - val_loss: 0.5997 - val_acc: 0.8279 - val_precision: 0.8479 - val_recall: 0.8023 - val_fmeasure: 0.8239\n",
      "Epoch 46/70\n",
      "3000/3000 [==============================] - 1s 444us/step - loss: 0.4636 - acc: 0.8530 - precision: 0.8891 - recall: 0.8180 - fmeasure: 0.8510 - val_loss: 0.5455 - val_acc: 0.8558 - val_precision: 0.8845 - val_recall: 0.8384 - val_fmeasure: 0.8602\n",
      "Epoch 47/70\n",
      "3000/3000 [==============================] - 1s 441us/step - loss: 0.3658 - acc: 0.8737 - precision: 0.8999 - recall: 0.8443 - fmeasure: 0.8706 - val_loss: 0.4875 - val_acc: 0.8698 - val_precision: 0.8910 - val_recall: 0.8477 - val_fmeasure: 0.8682\n",
      "Epoch 48/70\n",
      "3000/3000 [==============================] - 1s 443us/step - loss: 0.3614 - acc: 0.8787 - precision: 0.9069 - recall: 0.8437 - fmeasure: 0.8733 - val_loss: 0.5400 - val_acc: 0.8570 - val_precision: 0.8863 - val_recall: 0.8314 - val_fmeasure: 0.8572\n",
      "Epoch 49/70\n",
      "3000/3000 [==============================] - 1s 445us/step - loss: 0.3113 - acc: 0.8890 - precision: 0.9161 - recall: 0.8663 - fmeasure: 0.8898 - val_loss: 0.5430 - val_acc: 0.8547 - val_precision: 0.8727 - val_recall: 0.8372 - val_fmeasure: 0.8541\n",
      "Epoch 50/70\n",
      "3000/3000 [==============================] - 1s 443us/step - loss: 0.3069 - acc: 0.8893 - precision: 0.9202 - recall: 0.8663 - fmeasure: 0.8918 - val_loss: 0.5423 - val_acc: 0.8733 - val_precision: 0.8870 - val_recall: 0.8558 - val_fmeasure: 0.8706\n",
      "Epoch 51/70\n",
      "3000/3000 [==============================] - 1s 439us/step - loss: 0.3034 - acc: 0.9000 - precision: 0.9222 - recall: 0.8780 - fmeasure: 0.8991 - val_loss: 0.5315 - val_acc: 0.8640 - val_precision: 0.8872 - val_recall: 0.8337 - val_fmeasure: 0.8592\n",
      "Epoch 52/70\n",
      "3000/3000 [==============================] - 1s 450us/step - loss: 0.3081 - acc: 0.8983 - precision: 0.9212 - recall: 0.8777 - fmeasure: 0.8984 - val_loss: 0.5267 - val_acc: 0.8767 - val_precision: 0.8938 - val_recall: 0.8605 - val_fmeasure: 0.8763\n",
      "Epoch 53/70\n",
      "3000/3000 [==============================] - 1s 444us/step - loss: 0.2997 - acc: 0.9007 - precision: 0.9240 - recall: 0.8773 - fmeasure: 0.8995 - val_loss: 0.5248 - val_acc: 0.8744 - val_precision: 0.8973 - val_recall: 0.8512 - val_fmeasure: 0.8730\n",
      "Epoch 54/70\n",
      "3000/3000 [==============================] - 1s 451us/step - loss: 0.2807 - acc: 0.9023 - precision: 0.9246 - recall: 0.8803 - fmeasure: 0.9013 - val_loss: 0.6649 - val_acc: 0.8558 - val_precision: 0.8688 - val_recall: 0.8360 - val_fmeasure: 0.8516\n",
      "Epoch 55/70\n",
      "3000/3000 [==============================] - 1s 442us/step - loss: 0.3127 - acc: 0.8993 - precision: 0.9217 - recall: 0.8707 - fmeasure: 0.8949 - val_loss: 0.4411 - val_acc: 0.8872 - val_precision: 0.9064 - val_recall: 0.8721 - val_fmeasure: 0.8884\n",
      "Epoch 56/70\n",
      "3000/3000 [==============================] - 1s 445us/step - loss: 0.3212 - acc: 0.8927 - precision: 0.9174 - recall: 0.8633 - fmeasure: 0.8887 - val_loss: 0.6274 - val_acc: 0.8349 - val_precision: 0.8699 - val_recall: 0.8128 - val_fmeasure: 0.8395\n",
      "Epoch 57/70\n",
      "3000/3000 [==============================] - 1s 437us/step - loss: 0.3325 - acc: 0.8930 - precision: 0.9212 - recall: 0.8650 - fmeasure: 0.8914 - val_loss: 0.4623 - val_acc: 0.8849 - val_precision: 0.9004 - val_recall: 0.8767 - val_fmeasure: 0.8881\n",
      "Epoch 58/70\n",
      "3000/3000 [==============================] - 1s 428us/step - loss: 0.2946 - acc: 0.9093 - precision: 0.9289 - recall: 0.8913 - fmeasure: 0.9093 - val_loss: 0.4981 - val_acc: 0.8779 - val_precision: 0.8906 - val_recall: 0.8628 - val_fmeasure: 0.8759\n",
      "Epoch 59/70\n",
      "3000/3000 [==============================] - 1s 435us/step - loss: 0.3564 - acc: 0.8850 - precision: 0.9103 - recall: 0.8643 - fmeasure: 0.8861 - val_loss: 0.4952 - val_acc: 0.8837 - val_precision: 0.9017 - val_recall: 0.8628 - val_fmeasure: 0.8813\n",
      "Epoch 60/70\n",
      "3000/3000 [==============================] - 1s 442us/step - loss: 0.3199 - acc: 0.9027 - precision: 0.9231 - recall: 0.8793 - fmeasure: 0.9001 - val_loss: 0.5913 - val_acc: 0.8779 - val_precision: 0.8893 - val_recall: 0.8709 - val_fmeasure: 0.8798\n",
      "Epoch 61/70\n",
      "3000/3000 [==============================] - 1s 438us/step - loss: 0.3273 - acc: 0.9033 - precision: 0.9245 - recall: 0.8880 - fmeasure: 0.9054 - val_loss: 0.4787 - val_acc: 0.8686 - val_precision: 0.8913 - val_recall: 0.8570 - val_fmeasure: 0.8734\n",
      "Epoch 62/70\n",
      "3000/3000 [==============================] - 1s 431us/step - loss: 0.3222 - acc: 0.8900 - precision: 0.9155 - recall: 0.8657 - fmeasure: 0.8892 - val_loss: 0.4906 - val_acc: 0.8640 - val_precision: 0.8841 - val_recall: 0.8477 - val_fmeasure: 0.8650\n",
      "Epoch 63/70\n"
     ]
    },
    {
     "name": "stdout",
     "output_type": "stream",
     "text": [
      "3000/3000 [==============================] - 1s 440us/step - loss: 0.3730 - acc: 0.8817 - precision: 0.9119 - recall: 0.8577 - fmeasure: 0.8831 - val_loss: 0.6124 - val_acc: 0.8651 - val_precision: 0.8731 - val_recall: 0.8558 - val_fmeasure: 0.8642\n",
      "Epoch 64/70\n",
      "3000/3000 [==============================] - 1s 461us/step - loss: 0.2765 - acc: 0.9097 - precision: 0.9257 - recall: 0.8937 - fmeasure: 0.9089 - val_loss: 0.4412 - val_acc: 0.8942 - val_precision: 0.9053 - val_recall: 0.8849 - val_fmeasure: 0.8946\n",
      "Epoch 65/70\n",
      "3000/3000 [==============================] - 1s 454us/step - loss: 0.4938 - acc: 0.8803 - precision: 0.9029 - recall: 0.8587 - fmeasure: 0.8796 - val_loss: 0.6605 - val_acc: 0.8558 - val_precision: 0.8780 - val_recall: 0.8337 - val_fmeasure: 0.8547\n",
      "Epoch 66/70\n",
      "3000/3000 [==============================] - 1s 452us/step - loss: 0.3493 - acc: 0.8997 - precision: 0.9264 - recall: 0.8703 - fmeasure: 0.8965 - val_loss: 0.5289 - val_acc: 0.8953 - val_precision: 0.9066 - val_recall: 0.8814 - val_fmeasure: 0.8935\n",
      "Epoch 67/70\n",
      "3000/3000 [==============================] - 1s 450us/step - loss: 0.2742 - acc: 0.9183 - precision: 0.9383 - recall: 0.8977 - fmeasure: 0.9169 - val_loss: 0.4264 - val_acc: 0.8884 - val_precision: 0.9112 - val_recall: 0.8733 - val_fmeasure: 0.8915\n",
      "Epoch 68/70\n",
      "3000/3000 [==============================] - 1s 447us/step - loss: 0.2480 - acc: 0.9103 - precision: 0.9349 - recall: 0.8920 - fmeasure: 0.9124 - val_loss: 0.4112 - val_acc: 0.9000 - val_precision: 0.9195 - val_recall: 0.8733 - val_fmeasure: 0.8950\n",
      "Epoch 69/70\n",
      "3000/3000 [==============================] - 1s 457us/step - loss: 0.2463 - acc: 0.9287 - precision: 0.9435 - recall: 0.9123 - fmeasure: 0.9273 - val_loss: 0.5974 - val_acc: 0.8733 - val_precision: 0.8831 - val_recall: 0.8616 - val_fmeasure: 0.8720\n",
      "Epoch 70/70\n",
      "3000/3000 [==============================] - 1s 448us/step - loss: 0.2750 - acc: 0.9227 - precision: 0.9355 - recall: 0.9037 - fmeasure: 0.9189 - val_loss: 0.4367 - val_acc: 0.8953 - val_precision: 0.9096 - val_recall: 0.8884 - val_fmeasure: 0.8986\n",
      "860/860 [==============================] - 0s 190us/step\n",
      "\n",
      "Test loss: 0.4366759835287582\n",
      "Test accuracy: 0.8953488366548406\n",
      "Test precision: 0.9093096328336139\n",
      "Test recall: 0.888372092468794\n",
      "Test f1-score: 0.8985992001932721\n"
     ]
    }
   ],
   "source": [
    "model.compile(\n",
    "\toptimizer=\"Adam\",\n",
    "\tloss=\"categorical_crossentropy\",\n",
    "\tmetrics=['accuracy', precision, recall,fmeasure])\n",
    "\n",
    "model.fit(\n",
    "\tx=X_train, \n",
    "\ty=y_train,\n",
    "    epochs=70,\n",
    "    batch_size=20,\n",
    "    validation_data= (X_test, y_test))\n",
    "\n",
    "score = model.evaluate(\n",
    "\tx=X_test,\n",
    "\ty=y_test)\n",
    "\n",
    "print('\\nTest loss:', score[0])\n",
    "print('Test accuracy:', score[1])\n",
    "print('Test precision:', score[2])\n",
    "print('Test recall:', score[3])\n",
    "print('Test f1-score:', score[4])\n"
   ]
  },
  {
   "cell_type": "code",
   "execution_count": 51,
   "metadata": {},
   "outputs": [
    {
     "data": {
      "text/plain": [
       "(860, 128, 87, 1)"
      ]
     },
     "execution_count": 51,
     "metadata": {},
     "output_type": "execute_result"
    }
   ],
   "source": [
    "X_test.shape"
   ]
  },
  {
   "cell_type": "code",
   "execution_count": 39,
   "metadata": {},
   "outputs": [
    {
     "data": {
      "text/plain": [
       "array([7, 3, 4, 9, 9, 4, 7, 4, 5, 6, 8, 5, 4, 3, 1, 1, 7, 0, 9, 9, 2, 3,\n",
       "       3, 4, 1, 4, 9, 6, 6, 2, 1, 8, 9, 5, 3, 1, 5, 6, 2, 7, 9, 8, 3, 9,\n",
       "       9, 6, 4, 9, 6, 6, 4, 7, 2, 1, 4, 6, 3, 9, 3, 5, 1, 1, 4, 0, 3, 5,\n",
       "       3, 6, 4, 6, 9, 1, 3, 5, 6, 7, 6, 6, 6, 0, 9, 3, 6, 9, 1, 9, 7, 3,\n",
       "       7, 9, 1, 4, 0, 9, 9, 3, 4, 1, 7, 6, 4, 6, 7, 3, 6, 5, 6, 6, 1, 5,\n",
       "       6, 0, 1, 5, 7, 7, 3, 2, 1, 4, 6, 1, 8, 0, 1, 4, 4, 6, 4, 1, 9, 1,\n",
       "       1, 1, 4, 0, 2, 4, 4, 5, 1, 4, 3, 2, 6, 0, 4, 1, 4, 1, 5, 3, 8, 1,\n",
       "       3, 1, 6, 0, 1, 9, 7, 1, 9, 2, 1, 9, 6, 2, 4, 8, 4, 6, 4, 1, 1, 9,\n",
       "       4, 5, 0, 6, 1, 7, 5, 6, 3, 6, 9, 1, 8, 9, 3, 7, 4, 0, 1, 4, 1, 2,\n",
       "       9, 5, 4, 3, 1, 8, 0, 7, 9, 8, 8, 1, 6, 4, 8, 3, 1, 1, 1, 1, 6, 6,\n",
       "       4, 8, 1, 9, 6, 2, 1, 8, 9, 8, 4, 3, 5, 5, 7, 5, 4, 5, 4, 1, 9, 4,\n",
       "       7, 5, 8, 9, 6, 1, 0, 9, 0, 6, 7, 5, 3, 6, 6, 0, 9, 7, 0, 0, 1, 6,\n",
       "       9, 4, 7, 5, 6, 3, 7, 6, 8, 1, 9, 8, 4, 4, 4, 8, 3, 3, 9, 9, 3, 6,\n",
       "       6, 7, 8, 8, 1, 1, 6, 9, 7, 6, 5, 5, 3, 6, 3, 2, 5, 4, 3, 9, 1, 3,\n",
       "       3, 0, 4, 4, 3, 9, 6, 7, 9, 3, 3, 4, 3, 4, 1, 4, 6, 6, 6, 9, 3, 6,\n",
       "       3, 9, 3, 3, 4, 6, 3, 6, 6, 5, 6, 1, 8, 4, 0, 9, 4, 9, 8, 0, 6, 1,\n",
       "       9, 9, 9, 4, 9, 1, 1, 2, 4, 6, 4, 9, 9, 6, 3, 1, 6, 6, 7, 0, 1, 2,\n",
       "       9, 3, 8, 0, 2, 8, 6, 7, 4, 1, 6, 4, 3, 5, 8, 9, 4, 3, 1, 6, 8, 3,\n",
       "       3, 9, 3, 5, 8, 9, 4, 3, 3, 6, 3, 8, 1, 3, 3, 9, 1, 3, 4, 7, 5, 3,\n",
       "       6, 6, 4, 5, 6, 0, 9, 1, 7, 0, 8, 5, 5, 5, 9, 9, 3, 9, 6, 6, 6, 1,\n",
       "       6, 9, 4, 8, 3, 8, 5, 3, 1, 8, 0, 1, 9, 3, 3, 3, 1, 4, 4, 9, 7, 4,\n",
       "       9, 9, 8, 2, 4, 7, 4, 6, 9, 6, 6, 4, 6, 1, 8, 4, 6, 5, 8, 3, 1, 1,\n",
       "       1, 7, 4, 0, 0, 7, 9, 1, 4, 3, 3, 6, 0, 3, 3, 6, 2, 6, 9, 6, 5, 3,\n",
       "       9, 8, 0, 9, 2, 0, 3, 1, 9, 1, 6, 3, 9, 1, 3, 4, 5, 4, 0, 1, 6, 7,\n",
       "       4, 3, 9, 9, 4, 9, 1, 7, 8, 6, 6, 9, 4, 0, 4, 5, 6, 4, 9, 7, 3, 1,\n",
       "       9, 1, 6, 6, 2, 7, 3, 5, 6, 4, 0, 3, 5, 6, 3, 1, 7, 6, 4, 3, 6, 3,\n",
       "       1, 3, 2, 4, 6, 4, 5, 0, 5, 0, 6, 9, 5, 9, 6, 7, 2, 7, 3, 3, 6, 9,\n",
       "       3, 1, 4, 3, 4, 7, 8, 9, 3, 4, 8, 3, 2, 7, 6, 4, 1, 7, 6, 7, 4, 3,\n",
       "       5, 5, 9, 9, 9, 5, 7, 7, 5, 7, 7, 1, 1, 9, 3, 3, 8, 1, 9, 9, 6, 8,\n",
       "       6, 6, 4, 9, 7, 6, 8, 8, 1, 3, 1, 1, 9, 0, 3, 7, 6, 9, 8, 3, 5, 1,\n",
       "       9, 9, 1, 9, 4, 9, 3, 5, 6, 0, 4, 3, 0, 9, 3, 3, 0, 5, 3, 3, 6, 4,\n",
       "       0, 7, 6, 1, 7, 6, 5, 7, 3, 6, 2, 7, 0, 6, 1, 8, 3, 8, 4, 9, 3, 7,\n",
       "       2, 9, 9, 7, 8, 9, 6, 3, 4, 7, 9, 1, 4, 0, 3, 3, 8, 6, 5, 6, 1, 9,\n",
       "       0, 3, 3, 5, 5, 8, 8, 5, 2, 7, 5, 4, 2, 7, 9, 9, 6, 9, 5, 3, 7, 1,\n",
       "       1, 6, 3, 4, 9, 2, 3, 5, 5, 1, 4, 4, 3, 9, 1, 6, 0, 3, 4, 4, 8, 1,\n",
       "       4, 0, 6, 6, 5, 9, 4, 1, 4, 0, 4, 7, 7, 6, 1, 9, 4, 6, 3, 9, 9, 2,\n",
       "       9, 3, 0, 1, 9, 3, 5, 9, 9, 4, 6, 4, 4, 3, 2, 7, 1, 7, 6, 2, 7, 8,\n",
       "       4, 9, 3, 6, 7, 1, 6, 9, 3, 4, 3, 3, 4, 7, 1, 4, 6, 5, 8, 6, 5, 8,\n",
       "       3, 3, 1, 4, 1, 1, 3, 3, 1, 9, 7, 7, 7, 2, 4, 9, 0, 2, 1, 4, 6, 1,\n",
       "       7, 9])"
      ]
     },
     "execution_count": 39,
     "metadata": {},
     "output_type": "execute_result"
    }
   ],
   "source": [
    "predictions = model.predict_classes(X_test)\n",
    "predictions\n"
   ]
  },
  {
   "cell_type": "code",
   "execution_count": 40,
   "metadata": {},
   "outputs": [
    {
     "data": {
      "text/plain": [
       "array([7, 3, 4, 9, 9, 4, 7, 4, 5, 6, 1, 5, 4, 3, 1, 1, 7, 0, 9, 8, 2, 3,\n",
       "       3, 4, 1, 4, 9, 6, 6, 2, 1, 8, 9, 4, 3, 1, 4, 6, 1, 7, 9, 8, 3, 9,\n",
       "       9, 6, 4, 9, 6, 6, 4, 7, 1, 1, 4, 6, 3, 9, 3, 4, 1, 1, 4, 2, 3, 5,\n",
       "       3, 6, 4, 6, 9, 1, 3, 5, 6, 7, 6, 6, 6, 0, 9, 3, 6, 9, 1, 8, 7, 3,\n",
       "       7, 9, 1, 4, 1, 9, 9, 3, 4, 1, 7, 6, 4, 6, 7, 3, 7, 5, 6, 7, 1, 4,\n",
       "       7, 0, 1, 4, 4, 7, 3, 1, 1, 4, 6, 1, 5, 0, 1, 5, 4, 6, 4, 1, 9, 1,\n",
       "       1, 1, 3, 0, 2, 5, 4, 5, 1, 4, 3, 2, 6, 0, 4, 1, 4, 1, 5, 3, 8, 1,\n",
       "       3, 1, 6, 0, 1, 9, 7, 1, 9, 2, 1, 9, 6, 2, 4, 8, 4, 6, 4, 1, 1, 1,\n",
       "       4, 5, 0, 8, 1, 7, 5, 6, 3, 6, 8, 0, 8, 9, 3, 7, 4, 0, 1, 4, 1, 2,\n",
       "       9, 5, 4, 3, 1, 8, 0, 5, 9, 8, 8, 1, 6, 4, 9, 3, 1, 1, 1, 5, 6, 6,\n",
       "       4, 8, 1, 9, 6, 2, 1, 8, 9, 8, 4, 3, 5, 5, 7, 5, 4, 5, 4, 1, 9, 4,\n",
       "       8, 5, 8, 9, 6, 1, 0, 9, 0, 6, 9, 5, 3, 6, 6, 0, 0, 7, 0, 0, 1, 6,\n",
       "       9, 4, 7, 5, 6, 3, 7, 6, 8, 1, 9, 8, 4, 4, 4, 8, 3, 3, 9, 9, 3, 6,\n",
       "       4, 7, 8, 8, 1, 1, 6, 9, 7, 6, 5, 5, 3, 6, 3, 2, 5, 4, 3, 9, 1, 3,\n",
       "       3, 0, 4, 4, 3, 9, 6, 7, 9, 3, 3, 0, 3, 4, 1, 4, 6, 6, 6, 9, 3, 6,\n",
       "       3, 9, 3, 3, 4, 6, 3, 6, 6, 5, 6, 1, 8, 4, 0, 8, 4, 9, 8, 0, 6, 1,\n",
       "       8, 8, 9, 4, 9, 1, 1, 1, 5, 6, 5, 9, 9, 6, 3, 1, 7, 8, 7, 0, 1, 2,\n",
       "       4, 3, 8, 0, 5, 8, 6, 7, 4, 1, 6, 4, 3, 5, 8, 9, 4, 3, 1, 6, 8, 3,\n",
       "       3, 9, 3, 5, 8, 9, 4, 3, 3, 6, 3, 8, 1, 3, 3, 9, 1, 3, 4, 7, 5, 3,\n",
       "       6, 6, 5, 5, 6, 0, 9, 1, 7, 0, 8, 5, 5, 5, 9, 9, 3, 9, 6, 7, 6, 1,\n",
       "       7, 9, 4, 8, 3, 8, 5, 3, 1, 8, 0, 1, 9, 3, 3, 3, 1, 4, 5, 9, 7, 4,\n",
       "       9, 9, 8, 2, 4, 7, 4, 6, 9, 6, 6, 4, 6, 1, 8, 4, 6, 4, 8, 3, 1, 1,\n",
       "       1, 7, 4, 0, 0, 7, 9, 1, 4, 3, 3, 6, 0, 3, 3, 6, 2, 6, 9, 6, 5, 3,\n",
       "       9, 8, 9, 8, 2, 0, 3, 1, 9, 1, 6, 3, 9, 1, 3, 7, 5, 4, 9, 1, 6, 7,\n",
       "       4, 3, 9, 9, 4, 9, 1, 7, 8, 6, 6, 9, 4, 0, 4, 5, 6, 4, 9, 7, 3, 1,\n",
       "       9, 1, 6, 6, 2, 6, 3, 5, 6, 5, 0, 3, 5, 6, 3, 1, 7, 6, 4, 3, 6, 3,\n",
       "       1, 3, 2, 4, 6, 4, 4, 0, 4, 0, 6, 9, 5, 9, 8, 7, 0, 7, 3, 3, 6, 9,\n",
       "       3, 1, 4, 3, 4, 7, 8, 9, 3, 3, 8, 3, 2, 7, 6, 5, 1, 7, 6, 7, 4, 3,\n",
       "       5, 4, 9, 9, 9, 4, 7, 7, 5, 7, 7, 2, 1, 9, 3, 3, 8, 1, 9, 9, 6, 3,\n",
       "       6, 6, 4, 9, 7, 6, 8, 8, 1, 3, 1, 1, 9, 0, 3, 2, 6, 9, 8, 3, 4, 1,\n",
       "       9, 9, 0, 9, 4, 9, 3, 5, 8, 0, 4, 5, 0, 9, 3, 3, 0, 5, 3, 3, 6, 4,\n",
       "       0, 7, 6, 1, 7, 6, 5, 7, 3, 6, 2, 7, 1, 7, 1, 8, 3, 1, 4, 9, 3, 7,\n",
       "       6, 9, 4, 7, 8, 9, 6, 3, 6, 7, 9, 1, 4, 0, 3, 3, 8, 6, 5, 6, 1, 9,\n",
       "       0, 3, 3, 5, 5, 8, 8, 5, 2, 7, 5, 4, 2, 7, 9, 9, 6, 9, 5, 3, 7, 1,\n",
       "       1, 6, 3, 5, 9, 0, 3, 5, 5, 1, 4, 4, 3, 9, 1, 6, 0, 3, 4, 4, 8, 1,\n",
       "       4, 0, 6, 6, 5, 9, 5, 1, 4, 0, 4, 7, 7, 6, 1, 9, 3, 6, 3, 9, 9, 2,\n",
       "       8, 3, 0, 1, 9, 3, 5, 9, 9, 4, 6, 4, 4, 3, 2, 7, 9, 7, 5, 1, 7, 8,\n",
       "       4, 9, 3, 6, 7, 1, 5, 9, 3, 4, 3, 3, 4, 7, 1, 4, 6, 5, 8, 6, 4, 8,\n",
       "       3, 3, 9, 4, 1, 1, 3, 3, 1, 9, 7, 7, 7, 9, 4, 9, 9, 2, 1, 4, 7, 0,\n",
       "       7, 9])"
      ]
     },
     "execution_count": 40,
     "metadata": {},
     "output_type": "execute_result"
    }
   ],
   "source": [
    "y_test_values=np.array(y_test_values)\n",
    "y_test_values\n"
   ]
  },
  {
   "cell_type": "code",
   "execution_count": 41,
   "metadata": {},
   "outputs": [
    {
     "data": {
      "text/plain": [
       "array([[ 42,   3,   2,   0,   1,   0,   0,   0,   0,   1],\n",
       "       [  2, 104,   5,   0,   0,   0,   0,   0,   2,   1],\n",
       "       [  1,   1,  22,   0,   0,   0,   0,   1,   0,   0],\n",
       "       [  0,   0,   0, 122,   3,   0,   0,   0,   1,   0],\n",
       "       [  0,   0,   0,   0,  97,  12,   1,   1,   0,   2],\n",
       "       [  0,   1,   1,   1,  10,  51,   2,   1,   1,   0],\n",
       "       [  0,   0,   1,   0,   1,   0, 110,   1,   0,   0],\n",
       "       [  0,   0,   0,   0,   1,   0,   8,  65,   0,   0],\n",
       "       [  0,   0,   0,   0,   0,   0,   4,   1,  49,   8],\n",
       "       [  3,   2,   1,   0,   0,   0,   0,   1,   1, 108]])"
      ]
     },
     "execution_count": 41,
     "metadata": {},
     "output_type": "execute_result"
    }
   ],
   "source": [
    "from sklearn.metrics import confusion_matrix\n",
    "conf_mat=confusion_matrix(y_test_values, predictions, labels=[0,1,2,3,4,5,6,7,8,9])\n",
    "conf_mat"
   ]
  },
  {
   "cell_type": "code",
   "execution_count": 42,
   "metadata": {},
   "outputs": [
    {
     "name": "stdout",
     "output_type": "stream",
     "text": [
      "Saved model to disk\n"
     ]
    }
   ],
   "source": [
    "from keras.models import model_from_json\n",
    "\n",
    "# serialize model to JSON\n",
    "model_json = model.to_json()\n",
    "with open(\"model.json\", \"w\") as json_file:\n",
    "    json_file.write(model_json)\n",
    "# serialize weights to HDF5\n",
    "model.save_weights(\"model.h5\")\n",
    "print(\"Saved model to disk\")\n",
    " "
   ]
  },
  {
   "cell_type": "code",
   "execution_count": null,
   "metadata": {},
   "outputs": [],
   "source": []
  }
 ],
 "metadata": {
  "kernelspec": {
   "display_name": "Python 3",
   "language": "python",
   "name": "python3"
  },
  "language_info": {
   "codemirror_mode": {
    "name": "ipython",
    "version": 3
   },
   "file_extension": ".py",
   "mimetype": "text/x-python",
   "name": "python",
   "nbconvert_exporter": "python",
   "pygments_lexer": "ipython3",
   "version": "3.6.0"
  }
 },
 "nbformat": 4,
 "nbformat_minor": 2
}
